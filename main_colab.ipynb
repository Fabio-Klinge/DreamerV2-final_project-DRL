{
 "cells": [
  {
   "cell_type": "markdown",
   "metadata": {
    "id": "HmLMtV2HoF0x",
    "pycharm": {
     "name": "#%% md\n"
    }
   },
   "source": [
    "# Deep Reinforcement Learning - DreamerV2 - Minimal Colab project version\n",
    "DRL Group Work by Fabio, Lotta and Peter\n"
   ]
  },
  {
   "cell_type": "code",
   "execution_count": null,
   "metadata": {
    "colab": {
     "base_uri": "https://localhost:8080/",
     "height": 1000
    },
    "id": "2ypXc2r6XIeY",
    "outputId": "2ce9973c-aece-4b23-8d83-29aaac0d67e6",
    "pycharm": {
     "name": "#%%\n"
    }
   },
   "outputs": [
    {
     "output_type": "stream",
     "name": "stdout",
     "text": [
      "fatal: destination path 'DreamerV2-final_project-DRL' already exists and is not an empty directory.\n",
      "Already up to date.\n",
      "A2C.py\t\t\t     main_notebook.ipynb  RSSM.py\n",
      "Agent.py\t\t     main.py\t\t  Trainer.py\n",
      "DreamerV2-final_project-DRL  Parameters.py\t  WorldModel.py\n",
      "Evaluator.py\t\t     ReplayBuffer.py\n",
      "Looking in indexes: https://pypi.org/simple, https://us-python.pkg.dev/colab-wheels/public/simple/\n",
      "Collecting gym~=0.23.0\n",
      "  Using cached gym-0.23.1.tar.gz (626 kB)\n",
      "  Installing build dependencies ... \u001B[?25l\u001B[?25hdone\n",
      "  Getting requirements to build wheel ... \u001B[?25l\u001B[?25hdone\n",
      "    Preparing wheel metadata ... \u001B[?25l\u001B[?25hdone\n",
      "Collecting highway-env~=1.5\n",
      "  Using cached highway_env-1.6-py3-none-any.whl (104 kB)\n",
      "Collecting imageio~=2.19.3\n",
      "  Using cached imageio-2.19.5-py3-none-any.whl (3.4 MB)\n",
      "Collecting matplotlib~=3.5.1\n",
      "  Using cached matplotlib-3.5.3-cp37-cp37m-manylinux_2_5_x86_64.manylinux1_x86_64.whl (11.2 MB)\n",
      "Collecting tensorflow~=2.9.1\n",
      "  Using cached tensorflow-2.9.1-cp37-cp37m-manylinux_2_17_x86_64.manylinux2014_x86_64.whl (511.7 MB)\n",
      "Collecting tensorflow-probability~=0.17.0\n",
      "  Using cached tensorflow_probability-0.17.0-py2.py3-none-any.whl (6.5 MB)\n",
      "Collecting tf-agents~=0.13.0\n",
      "  Using cached tf_agents-0.13.0-py3-none-any.whl (1.3 MB)\n",
      "Requirement already satisfied: tqdm~=4.64.0 in /usr/local/lib/python3.7/dist-packages (from -r /content/DreamerV2-final_project-DRL/requirements.txt (line 8)) (4.64.0)\n",
      "Collecting wandb~=0.13.1\n",
      "  Using cached wandb-0.13.1-py2.py3-none-any.whl (1.8 MB)\n",
      "Requirement already satisfied: numpy~=1.21 in /usr/local/lib/python3.7/dist-packages (from -r /content/DreamerV2-final_project-DRL/requirements.txt (line 10)) (1.21.6)\n",
      "Requirement already satisfied: cloudpickle>=1.2.0 in /usr/local/lib/python3.7/dist-packages (from gym~=0.23.0->-r /content/DreamerV2-final_project-DRL/requirements.txt (line 1)) (1.3.0)\n",
      "Collecting gym-notices>=0.0.4\n",
      "  Downloading gym_notices-0.0.8-py3-none-any.whl (3.0 kB)\n",
      "Requirement already satisfied: importlib-metadata>=4.10.0 in /usr/local/lib/python3.7/dist-packages (from gym~=0.23.0->-r /content/DreamerV2-final_project-DRL/requirements.txt (line 1)) (4.12.0)\n",
      "Collecting pygame>=2.0.2\n",
      "  Downloading pygame-2.1.2-cp37-cp37m-manylinux_2_17_x86_64.manylinux2014_x86_64.whl (21.8 MB)\n",
      "\u001B[K     |████████████████████████████████| 21.8 MB 1.4 MB/s \n",
      "\u001B[?25hRequirement already satisfied: scipy in /usr/local/lib/python3.7/dist-packages (from highway-env~=1.5->-r /content/DreamerV2-final_project-DRL/requirements.txt (line 2)) (1.7.3)\n",
      "Requirement already satisfied: pandas in /usr/local/lib/python3.7/dist-packages (from highway-env~=1.5->-r /content/DreamerV2-final_project-DRL/requirements.txt (line 2)) (1.3.5)\n",
      "Collecting highway-env~=1.5\n",
      "  Using cached highway_env-1.5-py3-none-any.whl (103 kB)\n",
      "Collecting pillow>=8.3.2\n",
      "  Downloading Pillow-9.2.0-cp37-cp37m-manylinux_2_17_x86_64.manylinux2014_x86_64.whl (3.1 MB)\n",
      "\u001B[K     |████████████████████████████████| 3.1 MB 56.3 MB/s \n",
      "\u001B[?25hRequirement already satisfied: cycler>=0.10 in /usr/local/lib/python3.7/dist-packages (from matplotlib~=3.5.1->-r /content/DreamerV2-final_project-DRL/requirements.txt (line 4)) (0.11.0)\n",
      "Requirement already satisfied: python-dateutil>=2.7 in /usr/local/lib/python3.7/dist-packages (from matplotlib~=3.5.1->-r /content/DreamerV2-final_project-DRL/requirements.txt (line 4)) (2.8.2)\n",
      "Requirement already satisfied: kiwisolver>=1.0.1 in /usr/local/lib/python3.7/dist-packages (from matplotlib~=3.5.1->-r /content/DreamerV2-final_project-DRL/requirements.txt (line 4)) (1.4.4)\n",
      "Collecting fonttools>=4.22.0\n",
      "  Downloading fonttools-4.35.0-py3-none-any.whl (947 kB)\n",
      "\u001B[K     |████████████████████████████████| 947 kB 43.1 MB/s \n",
      "\u001B[?25hRequirement already satisfied: pyparsing>=2.2.1 in /usr/local/lib/python3.7/dist-packages (from matplotlib~=3.5.1->-r /content/DreamerV2-final_project-DRL/requirements.txt (line 4)) (3.0.9)\n",
      "Requirement already satisfied: packaging>=20.0 in /usr/local/lib/python3.7/dist-packages (from matplotlib~=3.5.1->-r /content/DreamerV2-final_project-DRL/requirements.txt (line 4)) (21.3)\n",
      "Requirement already satisfied: setuptools in /usr/local/lib/python3.7/dist-packages (from tensorflow~=2.9.1->-r /content/DreamerV2-final_project-DRL/requirements.txt (line 5)) (57.4.0)\n",
      "Collecting tensorflow-estimator<2.10.0,>=2.9.0rc0\n",
      "  Downloading tensorflow_estimator-2.9.0-py2.py3-none-any.whl (438 kB)\n",
      "\u001B[K     |████████████████████████████████| 438 kB 70.3 MB/s \n",
      "\u001B[?25hRequirement already satisfied: google-pasta>=0.1.1 in /usr/local/lib/python3.7/dist-packages (from tensorflow~=2.9.1->-r /content/DreamerV2-final_project-DRL/requirements.txt (line 5)) (0.2.0)\n",
      "Requirement already satisfied: astunparse>=1.6.0 in /usr/local/lib/python3.7/dist-packages (from tensorflow~=2.9.1->-r /content/DreamerV2-final_project-DRL/requirements.txt (line 5)) (1.6.3)\n",
      "Requirement already satisfied: wrapt>=1.11.0 in /usr/local/lib/python3.7/dist-packages (from tensorflow~=2.9.1->-r /content/DreamerV2-final_project-DRL/requirements.txt (line 5)) (1.14.1)\n",
      "Requirement already satisfied: tensorflow-io-gcs-filesystem>=0.23.1 in /usr/local/lib/python3.7/dist-packages (from tensorflow~=2.9.1->-r /content/DreamerV2-final_project-DRL/requirements.txt (line 5)) (0.26.0)\n",
      "Requirement already satisfied: h5py>=2.9.0 in /usr/local/lib/python3.7/dist-packages (from tensorflow~=2.9.1->-r /content/DreamerV2-final_project-DRL/requirements.txt (line 5)) (3.1.0)\n",
      "Requirement already satisfied: typing-extensions>=3.6.6 in /usr/local/lib/python3.7/dist-packages (from tensorflow~=2.9.1->-r /content/DreamerV2-final_project-DRL/requirements.txt (line 5)) (4.1.1)\n",
      "Requirement already satisfied: keras-preprocessing>=1.1.1 in /usr/local/lib/python3.7/dist-packages (from tensorflow~=2.9.1->-r /content/DreamerV2-final_project-DRL/requirements.txt (line 5)) (1.1.2)\n",
      "Requirement already satisfied: absl-py>=1.0.0 in /usr/local/lib/python3.7/dist-packages (from tensorflow~=2.9.1->-r /content/DreamerV2-final_project-DRL/requirements.txt (line 5)) (1.2.0)\n",
      "Collecting flatbuffers<2,>=1.12\n",
      "  Downloading flatbuffers-1.12-py2.py3-none-any.whl (15 kB)\n",
      "Requirement already satisfied: libclang>=13.0.0 in /usr/local/lib/python3.7/dist-packages (from tensorflow~=2.9.1->-r /content/DreamerV2-final_project-DRL/requirements.txt (line 5)) (14.0.6)\n",
      "Collecting tensorboard<2.10,>=2.9\n",
      "  Downloading tensorboard-2.9.1-py3-none-any.whl (5.8 MB)\n",
      "\u001B[K     |████████████████████████████████| 5.8 MB 46.7 MB/s \n",
      "\u001B[?25hCollecting keras<2.10.0,>=2.9.0rc0\n",
      "  Downloading keras-2.9.0-py2.py3-none-any.whl (1.6 MB)\n",
      "\u001B[K     |████████████████████████████████| 1.6 MB 58.7 MB/s \n",
      "\u001B[?25hCollecting gast<=0.4.0,>=0.2.1\n",
      "  Downloading gast-0.4.0-py3-none-any.whl (9.8 kB)\n",
      "Requirement already satisfied: six>=1.12.0 in /usr/local/lib/python3.7/dist-packages (from tensorflow~=2.9.1->-r /content/DreamerV2-final_project-DRL/requirements.txt (line 5)) (1.15.0)\n",
      "Requirement already satisfied: opt-einsum>=2.3.2 in /usr/local/lib/python3.7/dist-packages (from tensorflow~=2.9.1->-r /content/DreamerV2-final_project-DRL/requirements.txt (line 5)) (3.3.0)\n",
      "Requirement already satisfied: protobuf<3.20,>=3.9.2 in /usr/local/lib/python3.7/dist-packages (from tensorflow~=2.9.1->-r /content/DreamerV2-final_project-DRL/requirements.txt (line 5)) (3.17.3)\n",
      "Requirement already satisfied: termcolor>=1.1.0 in /usr/local/lib/python3.7/dist-packages (from tensorflow~=2.9.1->-r /content/DreamerV2-final_project-DRL/requirements.txt (line 5)) (1.1.0)\n",
      "Requirement already satisfied: grpcio<2.0,>=1.24.3 in /usr/local/lib/python3.7/dist-packages (from tensorflow~=2.9.1->-r /content/DreamerV2-final_project-DRL/requirements.txt (line 5)) (1.47.0)\n",
      "Requirement already satisfied: dm-tree in /usr/local/lib/python3.7/dist-packages (from tensorflow-probability~=0.17.0->-r /content/DreamerV2-final_project-DRL/requirements.txt (line 6)) (0.1.7)\n",
      "Requirement already satisfied: decorator in /usr/local/lib/python3.7/dist-packages (from tensorflow-probability~=0.17.0->-r /content/DreamerV2-final_project-DRL/requirements.txt (line 6)) (4.4.2)\n",
      "Requirement already satisfied: gin-config>=0.4.0 in /usr/local/lib/python3.7/dist-packages (from tf-agents~=0.13.0->-r /content/DreamerV2-final_project-DRL/requirements.txt (line 7)) (0.5.0)\n",
      "Collecting gym~=0.23.0\n",
      "  Using cached gym-0.23.0.tar.gz (624 kB)\n",
      "  Installing build dependencies ... \u001B[?25l\u001B[?25hdone\n",
      "  Getting requirements to build wheel ... \u001B[?25l\u001B[?25hdone\n",
      "    Preparing wheel metadata ... \u001B[?25l\u001B[?25hdone\n",
      "Collecting pygame\n",
      "  Downloading pygame-2.1.0-cp37-cp37m-manylinux_2_17_x86_64.manylinux2014_x86_64.whl (18.3 MB)\n",
      "\u001B[K     |████████████████████████████████| 18.3 MB 1.2 MB/s \n",
      "\u001B[?25hCollecting docker-pycreds>=0.4.0\n",
      "  Downloading docker_pycreds-0.4.0-py2.py3-none-any.whl (9.0 kB)\n",
      "Collecting setproctitle\n",
      "  Downloading setproctitle-1.3.2-cp37-cp37m-manylinux_2_5_x86_64.manylinux1_x86_64.manylinux_2_17_x86_64.manylinux2014_x86_64.whl (30 kB)\n",
      "Requirement already satisfied: requests<3,>=2.0.0 in /usr/local/lib/python3.7/dist-packages (from wandb~=0.13.1->-r /content/DreamerV2-final_project-DRL/requirements.txt (line 9)) (2.23.0)\n",
      "Collecting GitPython>=1.0.0\n",
      "  Downloading GitPython-3.1.27-py3-none-any.whl (181 kB)\n",
      "\u001B[K     |████████████████████████████████| 181 kB 66.6 MB/s \n",
      "\u001B[?25hRequirement already satisfied: psutil>=5.0.0 in /usr/local/lib/python3.7/dist-packages (from wandb~=0.13.1->-r /content/DreamerV2-final_project-DRL/requirements.txt (line 9)) (5.4.8)\n",
      "Collecting sentry-sdk>=1.0.0\n",
      "  Downloading sentry_sdk-1.9.5-py2.py3-none-any.whl (157 kB)\n",
      "\u001B[K     |████████████████████████████████| 157 kB 70.3 MB/s \n",
      "\u001B[?25hRequirement already satisfied: PyYAML in /usr/local/lib/python3.7/dist-packages (from wandb~=0.13.1->-r /content/DreamerV2-final_project-DRL/requirements.txt (line 9)) (3.13)\n",
      "Collecting pathtools\n",
      "  Downloading pathtools-0.1.2.tar.gz (11 kB)\n",
      "Collecting shortuuid>=0.5.0\n",
      "  Downloading shortuuid-1.0.9-py3-none-any.whl (9.4 kB)\n",
      "Requirement already satisfied: Click!=8.0.0,>=7.0 in /usr/local/lib/python3.7/dist-packages (from wandb~=0.13.1->-r /content/DreamerV2-final_project-DRL/requirements.txt (line 9)) (7.1.2)\n",
      "Requirement already satisfied: promise<3,>=2.0 in /usr/local/lib/python3.7/dist-packages (from wandb~=0.13.1->-r /content/DreamerV2-final_project-DRL/requirements.txt (line 9)) (2.3)\n",
      "Requirement already satisfied: wheel<1.0,>=0.23.0 in /usr/local/lib/python3.7/dist-packages (from astunparse>=1.6.0->tensorflow~=2.9.1->-r /content/DreamerV2-final_project-DRL/requirements.txt (line 5)) (0.37.1)\n",
      "Collecting gitdb<5,>=4.0.1\n",
      "  Downloading gitdb-4.0.9-py3-none-any.whl (63 kB)\n",
      "\u001B[K     |████████████████████████████████| 63 kB 2.1 MB/s \n",
      "\u001B[?25hCollecting smmap<6,>=3.0.1\n",
      "  Downloading smmap-5.0.0-py3-none-any.whl (24 kB)\n",
      "Requirement already satisfied: cached-property in /usr/local/lib/python3.7/dist-packages (from h5py>=2.9.0->tensorflow~=2.9.1->-r /content/DreamerV2-final_project-DRL/requirements.txt (line 5)) (1.5.2)\n",
      "Requirement already satisfied: zipp>=0.5 in /usr/local/lib/python3.7/dist-packages (from importlib-metadata>=4.10.0->gym~=0.23.0->-r /content/DreamerV2-final_project-DRL/requirements.txt (line 1)) (3.8.1)\n",
      "Requirement already satisfied: certifi>=2017.4.17 in /usr/local/lib/python3.7/dist-packages (from requests<3,>=2.0.0->wandb~=0.13.1->-r /content/DreamerV2-final_project-DRL/requirements.txt (line 9)) (2022.6.15)\n",
      "Requirement already satisfied: idna<3,>=2.5 in /usr/local/lib/python3.7/dist-packages (from requests<3,>=2.0.0->wandb~=0.13.1->-r /content/DreamerV2-final_project-DRL/requirements.txt (line 9)) (2.10)\n",
      "Requirement already satisfied: chardet<4,>=3.0.2 in /usr/local/lib/python3.7/dist-packages (from requests<3,>=2.0.0->wandb~=0.13.1->-r /content/DreamerV2-final_project-DRL/requirements.txt (line 9)) (3.0.4)\n",
      "Requirement already satisfied: urllib3!=1.25.0,!=1.25.1,<1.26,>=1.21.1 in /usr/local/lib/python3.7/dist-packages (from requests<3,>=2.0.0->wandb~=0.13.1->-r /content/DreamerV2-final_project-DRL/requirements.txt (line 9)) (1.24.3)\n",
      "Collecting sentry-sdk>=1.0.0\n",
      "  Downloading sentry_sdk-1.9.4-py2.py3-none-any.whl (157 kB)\n",
      "\u001B[K     |████████████████████████████████| 157 kB 67.6 MB/s \n",
      "\u001B[?25h  Downloading sentry_sdk-1.9.3-py2.py3-none-any.whl (157 kB)\n",
      "\u001B[K     |████████████████████████████████| 157 kB 79.2 MB/s \n",
      "\u001B[?25h  Downloading sentry_sdk-1.9.2-py2.py3-none-any.whl (157 kB)\n",
      "\u001B[K     |████████████████████████████████| 157 kB 73.7 MB/s \n",
      "\u001B[?25h  Downloading sentry_sdk-1.9.1-py2.py3-none-any.whl (157 kB)\n",
      "\u001B[K     |████████████████████████████████| 157 kB 71.8 MB/s \n",
      "\u001B[?25h  Downloading sentry_sdk-1.9.0-py2.py3-none-any.whl (156 kB)\n",
      "\u001B[K     |████████████████████████████████| 156 kB 68.6 MB/s \n",
      "\u001B[?25hRequirement already satisfied: google-auth<3,>=1.6.3 in /usr/local/lib/python3.7/dist-packages (from tensorboard<2.10,>=2.9->tensorflow~=2.9.1->-r /content/DreamerV2-final_project-DRL/requirements.txt (line 5)) (1.35.0)\n",
      "Requirement already satisfied: tensorboard-data-server<0.7.0,>=0.6.0 in /usr/local/lib/python3.7/dist-packages (from tensorboard<2.10,>=2.9->tensorflow~=2.9.1->-r /content/DreamerV2-final_project-DRL/requirements.txt (line 5)) (0.6.1)\n",
      "Requirement already satisfied: tensorboard-plugin-wit>=1.6.0 in /usr/local/lib/python3.7/dist-packages (from tensorboard<2.10,>=2.9->tensorflow~=2.9.1->-r /content/DreamerV2-final_project-DRL/requirements.txt (line 5)) (1.8.1)\n",
      "Requirement already satisfied: google-auth-oauthlib<0.5,>=0.4.1 in /usr/local/lib/python3.7/dist-packages (from tensorboard<2.10,>=2.9->tensorflow~=2.9.1->-r /content/DreamerV2-final_project-DRL/requirements.txt (line 5)) (0.4.6)\n",
      "Requirement already satisfied: werkzeug>=1.0.1 in /usr/local/lib/python3.7/dist-packages (from tensorboard<2.10,>=2.9->tensorflow~=2.9.1->-r /content/DreamerV2-final_project-DRL/requirements.txt (line 5)) (1.0.1)\n",
      "Requirement already satisfied: markdown>=2.6.8 in /usr/local/lib/python3.7/dist-packages (from tensorboard<2.10,>=2.9->tensorflow~=2.9.1->-r /content/DreamerV2-final_project-DRL/requirements.txt (line 5)) (3.4.1)\n",
      "Requirement already satisfied: cachetools<5.0,>=2.0.0 in /usr/local/lib/python3.7/dist-packages (from google-auth<3,>=1.6.3->tensorboard<2.10,>=2.9->tensorflow~=2.9.1->-r /content/DreamerV2-final_project-DRL/requirements.txt (line 5)) (4.2.4)\n",
      "Requirement already satisfied: rsa<5,>=3.1.4 in /usr/local/lib/python3.7/dist-packages (from google-auth<3,>=1.6.3->tensorboard<2.10,>=2.9->tensorflow~=2.9.1->-r /content/DreamerV2-final_project-DRL/requirements.txt (line 5)) (4.9)\n",
      "Requirement already satisfied: pyasn1-modules>=0.2.1 in /usr/local/lib/python3.7/dist-packages (from google-auth<3,>=1.6.3->tensorboard<2.10,>=2.9->tensorflow~=2.9.1->-r /content/DreamerV2-final_project-DRL/requirements.txt (line 5)) (0.2.8)\n",
      "Requirement already satisfied: requests-oauthlib>=0.7.0 in /usr/local/lib/python3.7/dist-packages (from google-auth-oauthlib<0.5,>=0.4.1->tensorboard<2.10,>=2.9->tensorflow~=2.9.1->-r /content/DreamerV2-final_project-DRL/requirements.txt (line 5)) (1.3.1)\n",
      "Requirement already satisfied: pyasn1<0.5.0,>=0.4.6 in /usr/local/lib/python3.7/dist-packages (from pyasn1-modules>=0.2.1->google-auth<3,>=1.6.3->tensorboard<2.10,>=2.9->tensorflow~=2.9.1->-r /content/DreamerV2-final_project-DRL/requirements.txt (line 5)) (0.4.8)\n",
      "Requirement already satisfied: oauthlib>=3.0.0 in /usr/local/lib/python3.7/dist-packages (from requests-oauthlib>=0.7.0->google-auth-oauthlib<0.5,>=0.4.1->tensorboard<2.10,>=2.9->tensorflow~=2.9.1->-r /content/DreamerV2-final_project-DRL/requirements.txt (line 5)) (3.2.0)\n",
      "Requirement already satisfied: pytz>=2017.3 in /usr/local/lib/python3.7/dist-packages (from pandas->highway-env~=1.5->-r /content/DreamerV2-final_project-DRL/requirements.txt (line 2)) (2022.1)\n",
      "Building wheels for collected packages: gym, pathtools\n",
      "  Building wheel for gym (PEP 517) ... \u001B[?25l\u001B[?25hdone\n",
      "  Created wheel for gym: filename=gym-0.23.0-py3-none-any.whl size=697659 sha256=269538718b0ac812c0adf8da4b61fa31c4fbff2b5c4ec5890aca454cf5bdfebf\n",
      "  Stored in directory: /root/.cache/pip/wheels/f0/7e/16/4d727df048fdb96518ec5c02266e55b98bc398837353852a6a\n",
      "  Building wheel for pathtools (setup.py) ... \u001B[?25l\u001B[?25hdone\n",
      "  Created wheel for pathtools: filename=pathtools-0.1.2-py3-none-any.whl size=8806 sha256=0ddf7289fa4085f45ec73ff61210b1c9bae17fbf61ec5088cf88ea6cf80ee4d4\n",
      "  Stored in directory: /root/.cache/pip/wheels/3e/31/09/fa59cef12cdcfecc627b3d24273699f390e71828921b2cbba2\n",
      "Successfully built gym pathtools\n",
      "Installing collected packages: smmap, pillow, gym-notices, gitdb, gast, fonttools, tensorflow-probability, tensorflow-estimator, tensorboard, shortuuid, setproctitle, sentry-sdk, pygame, pathtools, matplotlib, keras, gym, GitPython, flatbuffers, docker-pycreds, wandb, tf-agents, tensorflow, imageio, highway-env\n",
      "  Attempting uninstall: pillow\n",
      "    Found existing installation: Pillow 7.1.2\n",
      "    Uninstalling Pillow-7.1.2:\n",
      "      Successfully uninstalled Pillow-7.1.2\n",
      "  Attempting uninstall: gast\n",
      "    Found existing installation: gast 0.5.3\n",
      "    Uninstalling gast-0.5.3:\n",
      "      Successfully uninstalled gast-0.5.3\n",
      "  Attempting uninstall: tensorflow-probability\n",
      "    Found existing installation: tensorflow-probability 0.16.0\n",
      "    Uninstalling tensorflow-probability-0.16.0:\n",
      "      Successfully uninstalled tensorflow-probability-0.16.0\n",
      "  Attempting uninstall: tensorflow-estimator\n",
      "    Found existing installation: tensorflow-estimator 2.8.0\n",
      "    Uninstalling tensorflow-estimator-2.8.0:\n",
      "      Successfully uninstalled tensorflow-estimator-2.8.0\n",
      "  Attempting uninstall: tensorboard\n",
      "    Found existing installation: tensorboard 2.8.0\n",
      "    Uninstalling tensorboard-2.8.0:\n",
      "      Successfully uninstalled tensorboard-2.8.0\n",
      "  Attempting uninstall: matplotlib\n",
      "    Found existing installation: matplotlib 3.2.2\n",
      "    Uninstalling matplotlib-3.2.2:\n",
      "      Successfully uninstalled matplotlib-3.2.2\n",
      "  Attempting uninstall: keras\n",
      "    Found existing installation: keras 2.8.0\n",
      "    Uninstalling keras-2.8.0:\n",
      "      Successfully uninstalled keras-2.8.0\n",
      "  Attempting uninstall: gym\n",
      "    Found existing installation: gym 0.17.3\n",
      "    Uninstalling gym-0.17.3:\n",
      "      Successfully uninstalled gym-0.17.3\n",
      "  Attempting uninstall: flatbuffers\n",
      "    Found existing installation: flatbuffers 2.0\n",
      "    Uninstalling flatbuffers-2.0:\n",
      "      Successfully uninstalled flatbuffers-2.0\n",
      "  Attempting uninstall: tensorflow\n",
      "    Found existing installation: tensorflow 2.8.2+zzzcolab20220719082949\n",
      "    Uninstalling tensorflow-2.8.2+zzzcolab20220719082949:\n",
      "      Successfully uninstalled tensorflow-2.8.2+zzzcolab20220719082949\n",
      "  Attempting uninstall: imageio\n",
      "    Found existing installation: imageio 2.9.0\n",
      "    Uninstalling imageio-2.9.0:\n",
      "      Successfully uninstalled imageio-2.9.0\n",
      "Successfully installed GitPython-3.1.27 docker-pycreds-0.4.0 flatbuffers-1.12 fonttools-4.35.0 gast-0.4.0 gitdb-4.0.9 gym-0.23.0 gym-notices-0.0.8 highway-env-1.5 imageio-2.19.5 keras-2.9.0 matplotlib-3.5.3 pathtools-0.1.2 pillow-9.2.0 pygame-2.1.0 sentry-sdk-1.9.0 setproctitle-1.3.2 shortuuid-1.0.9 smmap-5.0.0 tensorboard-2.9.1 tensorflow-2.9.1 tensorflow-estimator-2.9.0 tensorflow-probability-0.17.0 tf-agents-0.13.0 wandb-0.13.1\n"
     ]
    },
    {
     "output_type": "display_data",
     "data": {
      "application/vnd.colab-display-data+json": {
       "pip_warning": {
        "packages": [
         "PIL",
         "flatbuffers",
         "gast",
         "keras",
         "matplotlib",
         "mpl_toolkits",
         "tensorboard",
         "tensorflow",
         "tensorflow_probability"
        ]
       }
      }
     },
     "metadata": {}
    }
   ],
   "source": [
    "!git clone \"https://github.com/Fabio-Klinge/DreamerV2-final_project-DRL.git\"\n",
    "!git pull\n",
    "!ls\n",
    "!pip3 install -r /content/DreamerV2-final_project-DRL/requirements.txt"
   ]
  },
  {
   "cell_type": "code",
   "execution_count": null,
   "metadata": {
    "colab": {
     "base_uri": "https://localhost:8080/"
    },
    "id": "2rZCBexVapys",
    "outputId": "77917d0c-6019-4f6c-e86c-69e288d3aba3",
    "pycharm": {
     "name": "#%%\n"
    }
   },
   "outputs": [
    {
     "output_type": "stream",
     "name": "stdout",
     "text": [
      "Python 3.7.13 (default, Apr 24 2022, 01:04:09) \n",
      "[GCC 7.5.0] on linux\n"
     ]
    }
   ],
   "source": [
    "import sys; print('Python %s on %s' % (sys.version, sys.platform))\n",
    "sys.path.extend(['/content/DreamerV2-final_project-DRL/'])"
   ]
  },
  {
   "cell_type": "code",
   "execution_count": null,
   "metadata": {
    "colab": {
     "base_uri": "https://localhost:8080/",
     "height": 428
    },
    "id": "0M-PjAUtasDt",
    "outputId": "dcee088d-8628-48d8-b0d9-707433cc0243",
    "pycharm": {
     "name": "#%%\n"
    }
   },
   "outputs": [
    {
     "output_type": "display_data",
     "data": {
      "text/plain": [
       "<IPython.core.display.Javascript object>"
      ],
      "application/javascript": [
       "\n",
       "        window._wandbApiKey = new Promise((resolve, reject) => {\n",
       "            function loadScript(url) {\n",
       "            return new Promise(function(resolve, reject) {\n",
       "                let newScript = document.createElement(\"script\");\n",
       "                newScript.onerror = reject;\n",
       "                newScript.onload = resolve;\n",
       "                document.body.appendChild(newScript);\n",
       "                newScript.src = url;\n",
       "            });\n",
       "            }\n",
       "            loadScript(\"https://cdn.jsdelivr.net/npm/postmate/build/postmate.min.js\").then(() => {\n",
       "            const iframe = document.createElement('iframe')\n",
       "            iframe.style.cssText = \"width:0;height:0;border:none\"\n",
       "            document.body.appendChild(iframe)\n",
       "            const handshake = new Postmate({\n",
       "                container: iframe,\n",
       "                url: 'https://wandb.ai/authorize'\n",
       "            });\n",
       "            const timeout = setTimeout(() => reject(\"Couldn't auto authenticate\"), 5000)\n",
       "            handshake.then(function(child) {\n",
       "                child.on('authorize', data => {\n",
       "                    clearTimeout(timeout)\n",
       "                    resolve(data)\n",
       "                });\n",
       "            });\n",
       "            })\n",
       "        });\n",
       "    "
      ]
     },
     "metadata": {}
    },
    {
     "output_type": "stream",
     "name": "stderr",
     "text": [
      "\u001B[34m\u001B[1mwandb\u001B[0m: Appending key for api.wandb.ai to your netrc file: /root/.netrc\n"
     ]
    },
    {
     "output_type": "display_data",
     "data": {
      "text/plain": [
       "<IPython.core.display.HTML object>"
      ],
      "text/html": [
       "Tracking run with wandb version 0.13.1"
      ]
     },
     "metadata": {}
    },
    {
     "output_type": "display_data",
     "data": {
      "text/plain": [
       "<IPython.core.display.HTML object>"
      ],
      "text/html": [
       "Run data is saved locally in <code>/content/DreamerV2-final_project-DRL/src/wandb/run-20220816_150329-1nq6yu79</code>"
      ]
     },
     "metadata": {}
    },
    {
     "output_type": "display_data",
     "data": {
      "text/plain": [
       "<IPython.core.display.HTML object>"
      ],
      "text/html": [
       "Syncing run <strong><a href=\"https://wandb.ai/cogsci/DreamerV2-final_project-DRL-src/runs/1nq6yu79\" target=\"_blank\">quiet-sun-1</a></strong> to <a href=\"https://wandb.ai/cogsci/DreamerV2-final_project-DRL-src\" target=\"_blank\">Weights & Biases</a> (<a href=\"https://wandb.me/run\" target=\"_blank\">docs</a>)<br/>"
      ]
     },
     "metadata": {}
    },
    {
     "output_type": "stream",
     "name": "stdout",
     "text": [
      "Image Log Loss: 4099.31884765625 Reward Log Loss: 1.1918667554855347 Discount Log Loss 0.6824549436569214 KL Loss 0.034467704594135284\n"
     ]
    },
    {
     "output_type": "stream",
     "name": "stderr",
     "text": [
      "WARNING:tensorflow:From /usr/local/lib/python3.7/dist-packages/tensorflow_probability/python/distributions/distribution.py:342: calling _Independent.__init__ (from tensorflow_probability.python.distributions.independent) with reinterpreted_batch_ndims=None is deprecated and will be removed after 2022-03-01.\n",
      "Instructions for updating:\n",
      "Please pass an integer value for `reinterpreted_batch_ndims`. The current behavior corresponds to `reinterpreted_batch_ndims=tf.size(distribution.batch_shape_tensor()) - 1`.\n"
     ]
    },
    {
     "output_type": "stream",
     "name": "stdout",
     "text": [
      "Actor Loss: 160.3022003173828 Critic Loss: 6714.48095703125\n",
      "Image Log Loss: 4099.009765625 Reward Log Loss: 1.106399416923523 Discount Log Loss 0.6451955437660217 KL Loss 0.03315887972712517\n",
      "Actor Loss: 176.50015258789062 Critic Loss: 7976.6962890625\n",
      "Episode 0: 7.262598791134961\n",
      "Length: 9.75609756097561\n",
      "Image Log Loss: 4098.541015625 Reward Log Loss: 1.069967269897461 Discount Log Loss 0.6020570397377014 KL Loss 0.03515336290001869\n",
      "Actor Loss: 195.17739868164062 Critic Loss: 9845.328125\n",
      "Image Log Loss: 4098.37646484375 Reward Log Loss: 1.0225944519042969 Discount Log Loss 0.5477451682090759 KL Loss 0.034462105482816696\n",
      "Actor Loss: 208.88275146484375 Critic Loss: 11214.13671875\n",
      "Image Log Loss: 4099.5224609375 Reward Log Loss: 0.9907418489456177 Discount Log Loss 0.4875148832798004 KL Loss 0.03999127075076103\n",
      "Actor Loss: 222.62228393554688 Critic Loss: 12728.841796875\n",
      "Image Log Loss: 4097.43212890625 Reward Log Loss: 0.9929983615875244 Discount Log Loss 0.4880644977092743 KL Loss 0.03826261684298515\n"
     ]
    }
   ],
   "source": [
    "runfile(\"/content/DreamerV2-final_project-DRL/src/main.py\", wdir=\"/content/DreamerV2-final_project-DRL/src\")"
   ]
  },
  {
   "cell_type": "code",
   "source": [],
   "metadata": {
    "id": "AXkFsI_eJT1m",
    "pycharm": {
     "name": "#%%\n"
    }
   },
   "execution_count": null,
   "outputs": []
  }
 ],
 "metadata": {
  "accelerator": "GPU",
  "colab": {
   "collapsed_sections": [],
   "name": "DRL-DreamerV2.ipynb",
   "provenance": []
  },
  "kernelspec": {
   "display_name": "Python 3",
   "name": "python3"
  },
  "language_info": {
   "name": "python"
  }
 },
 "nbformat": 4,
 "nbformat_minor": 0
}