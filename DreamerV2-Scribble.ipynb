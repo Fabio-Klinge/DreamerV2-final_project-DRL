{
 "cells": [
  {
   "cell_type": "markdown",
   "metadata": {},
   "source": [
    "# Imports and Overview"
   ]
  },
  {
   "cell_type": "code",
   "execution_count": 52,
   "metadata": {},
   "outputs": [],
   "source": [
    "# Neural Network\n",
    "import tensorflow as tf\n",
    "from tensorflow.keras.models import Model\n",
    "\n",
    "# Buffer \n",
    "from tf_agents.replay_buffers import tf_uniform_replay_buffer\n",
    "\n",
    "# Further support\n",
    "import numpy as np\n",
    "from tqdm.notebook import tqdm_notebook\n",
    "\n",
    "# Environment\n",
    "import gym\n",
    "import highway_env\n",
    "import random\n",
    "\n",
    "\n"
   ]
  },
  {
   "cell_type": "markdown",
   "metadata": {},
   "source": [
    "# Experience Replay Buffer"
   ]
  },
  {
   "cell_type": "code",
   "execution_count": 53,
   "metadata": {},
   "outputs": [],
   "source": [
    "# Has to save (Observation, action, reward, terminal state)\n",
    "from numpy import float32\n",
    "\n",
    "\n",
    "class Buffer:\n",
    "\n",
    "    def __init__(\n",
    "        self,\n",
    "        batch_size=50,\n",
    "        buffer_length=1000, \n",
    "        observation_size=192*48,\n",
    "        action_size=2\n",
    "    ):\n",
    "        '''\n",
    "        Create replay buffer\n",
    "\n",
    "        Buffer size = batch_size * buffer_length\n",
    "\n",
    "        '''\n",
    "        # Save batch size for other functions of buffer\n",
    "        self.batch_size = batch_size\n",
    "\n",
    "        # Tell buffer what data & which size to expect\n",
    "        self.data_spec = (\n",
    "            tf.TensorSpec(\n",
    "                shape=[1, observation_size],\n",
    "                dtype=tf.dtypes.float64,\n",
    "                name=\"Observation\"\n",
    "            ),\n",
    "            tf.TensorSpec(\n",
    "                shape=[1, observation_size],\n",
    "                dtype=tf.dtypes.float64,\n",
    "                name=\"Next state\"\n",
    "            ),\n",
    "            tf.TensorSpec(\n",
    "                shape=[1, action_size],\n",
    "                dtype=tf.dtypes.int32,\n",
    "                name=\"Action\"\n",
    "            ),\n",
    "            tf.TensorSpec(\n",
    "                # Reward size\n",
    "                shape=[1, 1],\n",
    "                dtype=tf.dtypes.float64,\n",
    "                name=\"Reward\"\n",
    "            ),\n",
    "            tf.TensorSpec(\n",
    "                shape=[1, 1],\n",
    "                # Either 0 or 1 \n",
    "                dtype=tf.dtypes.bool,\n",
    "                name=\"Terminal State\"\n",
    "            )\n",
    "        )\n",
    "\n",
    "        # Create the buffer \n",
    "        self.buffer = tf_uniform_replay_buffer.TFUniformReplayBuffer(\n",
    "            self.data_spec, batch_size, buffer_length\n",
    "        )\n",
    "\n",
    "    def obtain_buffer_specs(self):\n",
    "        return self.data_spec\n",
    "\n",
    "    def add(self, items):\n",
    "        '''\n",
    "        length of items must be equal to batch size\n",
    "\n",
    "        items: list or tuple of batched data from (50, 4)\n",
    "\n",
    "\n",
    "        '''\n",
    "        # Combine all values from \"items\" in tensor\n",
    "        # Not sure wether we need tf.nest.map_structure\n",
    "        self.batched_values = tf.nest.map_structure(\n",
    "            lambda t: tf.stack([t] * self.batch_size),\n",
    "            items\n",
    "        )\n",
    "\n",
    "        # Add to batch\n",
    "        self.buffer.add_batch(self.batched_values)\n",
    "\n",
    "    def sample(self):\n",
    "        return self.buffer.as_dataset(single_deterministic_pass=False)\n",
    "\n",
    "\n"
   ]
  },
  {
   "cell_type": "markdown",
   "metadata": {},
   "source": [
    "# Environment"
   ]
  },
  {
   "cell_type": "code",
   "execution_count": 54,
   "metadata": {},
   "outputs": [],
   "source": [
    "class EnvironmentInteractor:\n",
    "\n",
    "  def __init__(self, config, buffer, environment_name = \"highway-fast-v0\"):\n",
    "    self.config = config\n",
    "\n",
    "    self.env = gym.make(environment_name)    \n",
    "    self.env.configure(config)\n",
    "\n",
    "    self.buffer = buffer\n",
    "  \n",
    "\n",
    "  \n",
    "\n",
    "  def create_trajectories(self, iterations):\n",
    "    state = self.env.reset()\n",
    "    \n",
    "\n",
    "    # Save sizes of the stupid tensors\n",
    "    data_spec = self.buffer.obtain_buffer_specs()\n",
    "\n",
    "    for _ in range(iterations):\n",
    "        action = self.env.action_space.sample()\n",
    "        next_state, reward, done, _ = self.env.step(action)\n",
    "        self.buffer.add((\n",
    "            tf.constant(state, shape=data_spec[0].shape.as_list()),\n",
    "            tf.constant(next_state, shape=data_spec[1].shape.as_list()),\n",
    "            tf.constant(action, shape=data_spec[2].shape.as_list()),\n",
    "            tf.constant(reward, shape=data_spec[3].shape.as_list()),\n",
    "            tf.constant(done, shape=data_spec[4].shape.as_list())\n",
    "        ))\n",
    "        state = next_state\n",
    "        \n",
    "        if done:\n",
    "          state = self.env.reset()\n",
    "\n",
    "\n",
    "def __del__(self):\n",
    "  self.env.close()"
   ]
  },
  {
   "cell_type": "code",
   "execution_count": 55,
   "metadata": {},
   "outputs": [
    {
     "name": "stderr",
     "output_type": "stream",
     "text": [
      "c:\\Users\\User1\\anaconda3\\envs\\iannwtf\\lib\\site-packages\\highway_env\\vehicle\\objects.py:33: DeprecationWarning: `np.float` is a deprecated alias for the builtin `float`. To silence this warning, use `float` by itself. Doing this will not modify any behavior and is safe. If you specifically wanted the numpy scalar type, use `np.float64` here.\n",
      "Deprecated in NumPy 1.20; for more details and guidance: https://numpy.org/devdocs/release/1.20.0-notes.html#deprecations\n",
      "  self.position = np.array(position, dtype=np.float)\n",
      "c:\\Users\\User1\\anaconda3\\envs\\iannwtf\\lib\\site-packages\\highway_env\\vehicle\\controller.py:273: DeprecationWarning: `np.int` is a deprecated alias for the builtin `int`. To silence this warning, use `int` by itself. Doing this will not modify any behavior and is safe. When replacing `np.int`, you may wish to use e.g. `np.int64` or `np.int32` to specify the precision. If you wish to review your current use, check the release note link for additional information.\n",
      "Deprecated in NumPy 1.20; for more details and guidance: https://numpy.org/devdocs/release/1.20.0-notes.html#deprecations\n",
      "  return np.int(np.clip(np.round(x * (self.target_speeds.size - 1)), 0, self.target_speeds.size - 1))\n"
     ]
    },
    {
     "name": "stdout",
     "output_type": "stream",
     "text": [
      "Iterator trajectories:\n",
      "[(<tf.Tensor: shape=(1, 9216), dtype=float64, numpy=array([[100., 100., 100., ..., 100., 100., 100.]])>, <tf.Tensor: shape=(1, 9216), dtype=float64, numpy=array([[100., 100., 100., ..., 100., 100., 100.]])>, <tf.Tensor: shape=(1, 2), dtype=int32, numpy=array([[4, 4]])>, <tf.Tensor: shape=(1, 1), dtype=float64, numpy=array([[0.7152461]])>, <tf.Tensor: shape=(1, 1), dtype=bool, numpy=array([[False]])>), (<tf.Tensor: shape=(1, 9216), dtype=float64, numpy=array([[100., 100., 100., ..., 100., 100., 100.]])>, <tf.Tensor: shape=(1, 9216), dtype=float64, numpy=array([[100., 100., 100., ..., 100., 100., 100.]])>, <tf.Tensor: shape=(1, 2), dtype=int32, numpy=array([[2, 2]])>, <tf.Tensor: shape=(1, 1), dtype=float64, numpy=array([[0.73333861]])>, <tf.Tensor: shape=(1, 1), dtype=bool, numpy=array([[False]])>), (<tf.Tensor: shape=(1, 9216), dtype=float64, numpy=array([[100., 100., 100., ..., 100., 100., 100.]])>, <tf.Tensor: shape=(1, 9216), dtype=float64, numpy=array([[100., 100., 100., ..., 100., 100., 100.]])>, <tf.Tensor: shape=(1, 2), dtype=int32, numpy=array([[4, 4]])>, <tf.Tensor: shape=(1, 1), dtype=float64, numpy=array([[0.7]])>, <tf.Tensor: shape=(1, 1), dtype=bool, numpy=array([[False]])>)]\n",
      "[(TensorShape([1, 9216]), TensorShape([1, 9216]), TensorShape([1, 2]), TensorShape([1, 1]), TensorShape([1, 1])), (TensorShape([1, 9216]), TensorShape([1, 9216]), TensorShape([1, 2]), TensorShape([1, 1]), TensorShape([1, 1])), (TensorShape([1, 9216]), TensorShape([1, 9216]), TensorShape([1, 2]), TensorShape([1, 1]), TensorShape([1, 1]))]\n"
     ]
    }
   ],
   "source": [
    "\n",
    "buffer = Buffer(batch_size=1)\n",
    "config = {\n",
    "        \"observation\": {\n",
    "            \"type\": \"GrayscaleObservation\",\n",
    "            \"observation_shape\": (192, 48),\n",
    "            \"stack_size\": 1,\n",
    "            # weights for RGB conversion\n",
    "            \"weights\": [0.01, 0.01, 0.98],  \n",
    "            \"scaling\": 1.5,\n",
    "        },\n",
    "        # was at 2\n",
    "        \"policy_frequency\": 1 \n",
    "    }\n",
    "\n",
    "environment_interactor = EnvironmentInteractor(config, buffer)\n",
    "environment_interactor.create_trajectories(10)\n",
    "\n",
    "\n",
    "\n",
    "\n",
    "\n",
    "\n",
    "dataset = buffer.sample()\n",
    "\n",
    "iterator = iter(dataset)\n",
    "print(\"Iterator trajectories:\")\n",
    "trajectories = []\n",
    "for _ in range(3):\n",
    "  t, _ = next(iterator)\n",
    "  trajectories.append(t)\n",
    "\n",
    "print(trajectories)\n",
    "\n",
    "print(tf.nest.map_structure(lambda t: t.shape, trajectories))"
   ]
  },
  {
   "cell_type": "markdown",
   "metadata": {},
   "source": [
    "# Actor Critic"
   ]
  },
  {
   "cell_type": "code",
   "execution_count": null,
   "metadata": {},
   "outputs": [],
   "source": []
  },
  {
   "cell_type": "markdown",
   "metadata": {},
   "source": [
    "# World model"
   ]
  },
  {
   "cell_type": "code",
   "execution_count": null,
   "metadata": {},
   "outputs": [],
   "source": []
  },
  {
   "cell_type": "markdown",
   "metadata": {},
   "source": [
    "# World model & agent training loops"
   ]
  },
  {
   "cell_type": "markdown",
   "metadata": {},
   "source": [
    "# Hyperparam inits\n",
    "Agent Data collection in environment + adding data to ERB (+ measure at which reward loop stops?) \\par\n",
    "World model loop on data sampled from ERB \\par\n",
    "Agent training loop with world model feedback\n",
    " "
   ]
  },
  {
   "cell_type": "markdown",
   "metadata": {},
   "source": [
    "# Function execution"
   ]
  },
  {
   "cell_type": "code",
   "execution_count": null,
   "metadata": {},
   "outputs": [],
   "source": []
  }
 ],
 "metadata": {
  "kernelspec": {
   "display_name": "Python 3.9.7 ('iannwtf')",
   "language": "python",
   "name": "python3"
  },
  "language_info": {
   "codemirror_mode": {
    "name": "ipython",
    "version": 3
   },
   "file_extension": ".py",
   "mimetype": "text/x-python",
   "name": "python",
   "nbconvert_exporter": "python",
   "pygments_lexer": "ipython3",
   "version": "3.9.7"
  },
  "orig_nbformat": 4,
  "vscode": {
   "interpreter": {
    "hash": "f7b373b46a3ad398ff0fbe06950ea2901f8c9a237be6643544c903d3b2478057"
   }
  }
 },
 "nbformat": 4,
 "nbformat_minor": 2
}
