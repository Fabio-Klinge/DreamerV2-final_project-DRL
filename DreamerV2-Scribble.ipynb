{
 "cells": [
  {
   "cell_type": "markdown",
   "metadata": {
    "pycharm": {
     "name": "#%% md\n"
    }
   },
   "source": [
    "# Imports and Overview"
   ]
  },
  {
   "cell_type": "code",
   "execution_count": 418,
   "metadata": {
    "collapsed": false,
    "pycharm": {
     "name": "#%%\n"
    }
   },
   "outputs": [
    {
     "data": {
      "text/html": [
       "Finishing last run (ID:15popssk) before initializing another..."
      ],
      "text/plain": [
       "<IPython.core.display.HTML object>"
      ]
     },
     "metadata": {},
     "output_type": "display_data"
    },
    {
     "data": {
      "text/html": [
       "Waiting for W&B process to finish... <strong style=\"color:green\">(success).</strong>"
      ],
      "text/plain": [
       "<IPython.core.display.HTML object>"
      ]
     },
     "metadata": {},
     "output_type": "display_data"
    },
    {
     "data": {
      "application/vnd.jupyter.widget-view+json": {
       "model_id": "ada92faec911434da3ef13d3052d65da",
       "version_major": 2,
       "version_minor": 0
      },
      "text/plain": [
       "VBox(children=(Label(value='0.031 MB of 0.031 MB uploaded (0.000 MB deduped)\\r'), FloatProgress(value=1.0, max…"
      ]
     },
     "metadata": {},
     "output_type": "display_data"
    },
    {
     "data": {
      "text/html": [
       "<style>\n",
       "    table.wandb td:nth-child(1) { padding: 0 10px; text-align: left ; width: auto;} td:nth-child(2) {text-align: left ; width: 100%}\n",
       "    .wandb-row { display: flex; flex-direction: row; flex-wrap: wrap; justify-content: flex-start; width: 100% }\n",
       "    .wandb-col { display: flex; flex-direction: column; flex-basis: 100%; flex: 1; padding: 10px; }\n",
       "    </style>\n",
       "<div class=\"wandb-row\"><div class=\"wandb-col\"><h3>Run history:</h3><br/><table class=\"wandb\"><tr><td>Discount Log Loss</td><td>▁</td></tr><tr><td>Image Log Loss</td><td>▁</td></tr><tr><td>KL Loss</td><td>▁</td></tr><tr><td>Loss</td><td>▁</td></tr><tr><td>Reward Log Loss</td><td>▁</td></tr></table><br/></div><div class=\"wandb-col\"><h3>Run summary:</h3><br/><table class=\"wandb\"><tr><td>Discount Log Loss</td><td>0.6609</td></tr><tr><td>Image Log Loss</td><td>4098.79883</td></tr><tr><td>KL Loss</td><td>0.00033</td></tr><tr><td>Loss</td><td>4100.64014</td></tr><tr><td>Reward Log Loss</td><td>1.17978</td></tr></table><br/></div></div>"
      ],
      "text/plain": [
       "<IPython.core.display.HTML object>"
      ]
     },
     "metadata": {},
     "output_type": "display_data"
    },
    {
     "data": {
      "text/html": [
       "Synced <strong style=\"color:#cdcd00\">usual-sound-83</strong>: <a href=\"https://wandb.ai/cogsci/DreamerV2-final_project-DRL/runs/15popssk\" target=\"_blank\">https://wandb.ai/cogsci/DreamerV2-final_project-DRL/runs/15popssk</a><br/>Synced 6 W&B file(s), 0 media file(s), 0 artifact file(s) and 1 other file(s)"
      ],
      "text/plain": [
       "<IPython.core.display.HTML object>"
      ]
     },
     "metadata": {},
     "output_type": "display_data"
    },
    {
     "data": {
      "text/html": [
       "Find logs at: <code>./wandb/run-20220810_173424-15popssk/logs</code>"
      ],
      "text/plain": [
       "<IPython.core.display.HTML object>"
      ]
     },
     "metadata": {},
     "output_type": "display_data"
    },
    {
     "data": {
      "text/html": [
       "Successfully finished last run (ID:15popssk). Initializing new run:<br/>"
      ],
      "text/plain": [
       "<IPython.core.display.HTML object>"
      ]
     },
     "metadata": {},
     "output_type": "display_data"
    },
    {
     "data": {
      "text/html": [
       "wandb version 0.13.1 is available!  To upgrade, please run:\n",
       " $ pip install wandb --upgrade"
      ],
      "text/plain": [
       "<IPython.core.display.HTML object>"
      ]
     },
     "metadata": {},
     "output_type": "display_data"
    },
    {
     "data": {
      "text/html": [
       "Tracking run with wandb version 0.12.21"
      ],
      "text/plain": [
       "<IPython.core.display.HTML object>"
      ]
     },
     "metadata": {},
     "output_type": "display_data"
    },
    {
     "data": {
      "text/html": [
       "Run data is saved locally in <code>/Users/peterkeffer/DreamerV2-final_project-DRL/wandb/run-20220810_173530-5513i0cv</code>"
      ],
      "text/plain": [
       "<IPython.core.display.HTML object>"
      ]
     },
     "metadata": {},
     "output_type": "display_data"
    },
    {
     "data": {
      "text/html": [
       "Syncing run <strong><a href=\"https://wandb.ai/cogsci/DreamerV2-final_project-DRL/runs/5513i0cv\" target=\"_blank\">skilled-brook-84</a></strong> to <a href=\"https://wandb.ai/cogsci/DreamerV2-final_project-DRL\" target=\"_blank\">Weights & Biases</a> (<a href=\"https://wandb.me/run\" target=\"_blank\">docs</a>)<br/>"
      ],
      "text/plain": [
       "<IPython.core.display.HTML object>"
      ]
     },
     "metadata": {},
     "output_type": "display_data"
    }
   ],
   "source": [
    "# !pip install --upgrade wandb tensorflow tensorflow_probability tf_agents numpy gym highway-env tqdm wandb\n",
    "# Neural Network\n",
    "import tensorflow as tf\n",
    "from tensorflow.keras.models import Model\n",
    "# Layer\n",
    "from tensorflow.keras.layers import Dense, Layer, Conv2DTranspose, Conv2D, GlobalAveragePooling2D, Reshape, BatchNormalization, GRUCell, MaxPooling2D, Flatten, RNN\n",
    "from tensorflow.keras.losses import CategoricalCrossentropy, KLDivergence\n",
    "import tensorflow_probability as tfp\n",
    "\n",
    "\n",
    "\n",
    "# Buffer \n",
    "from tf_agents.replay_buffers import tf_uniform_replay_buffer\n",
    "\n",
    "# Further support\n",
    "import numpy as np\n",
    "from typing import NamedTuple\n",
    "from tqdm import tqdm\n",
    "import wandb\n",
    "wandb.init(settings=wandb.Settings(_disable_stats=True))\n",
    "\n",
    "# Environment\n",
    "import gym\n",
    "import highway_env\n",
    "import random\n",
    "\n",
    "\n",
    "\n"
   ]
  },
  {
   "cell_type": "code",
   "execution_count": 419,
   "metadata": {
    "collapsed": false,
    "pycharm": {
     "name": "#%%\n"
    }
   },
   "outputs": [
    {
     "data": {
      "text/plain": [
       "<tf.Tensor: shape=(2,), dtype=float32, numpy=array([0.4       , 0.09999999], dtype=float32)>"
      ]
     },
     "execution_count": 419,
     "metadata": {},
     "output_type": "execute_result"
    }
   ],
   "source": [
    "# counts is a scalar.\n",
    "p = [0.1, 0.4, 0.5]\n",
    "dist = tfp.distributions.OneHotCategorical(probs=p)\n",
    "dist.prob([0,1,0])  # Shape []\n",
    "\n",
    "# p will be broadcast to [[0.1, 0.4, 0.5], [0.1, 0.4, 0.5]] to match.\n",
    "samples = [[0,1,0], [1,0,0]]\n",
    "dist.prob(samples)  # Shape [2]\n"
   ]
  },
  {
   "cell_type": "markdown",
   "metadata": {
    "collapsed": false,
    "pycharm": {
     "name": "#%% md\n"
    }
   },
   "source": [
    "# Experience Replay Buffer"
   ]
  },
  {
   "cell_type": "code",
   "execution_count": 420,
   "metadata": {
    "collapsed": false,
    "pycharm": {
     "name": "#%%\n"
    }
   },
   "outputs": [],
   "source": [
    "# Has to save (Observation, action, reward, terminal state)\n",
    "from numpy import float32\n",
    "\n",
    "\n",
    "class Buffer:\n",
    "\n",
    "    def __init__(\n",
    "        self,\n",
    "        batch_size=1,\n",
    "        buffer_length=1000, \n",
    "        observation_size=(128,32,1),\n",
    "        action_size=1\n",
    "    ):\n",
    "        \"\"\"\n",
    "        Create replay buffer\n",
    "\n",
    "        Buffer size = batch_size * buffer_length\n",
    "\n",
    "        \"\"\"\n",
    "        # Save batch size for other functions of buffer\n",
    "        # NOT the usual batch size in Deep Learning\n",
    "        # Batches in Uniform Replay Buffer describe size of input added to the buffer\n",
    "        self.batch_size = batch_size\n",
    "\n",
    "        # Tell buffer what data & which size to expect\n",
    "        self.data_spec = (\n",
    "            tf.TensorSpec(\n",
    "                shape= observation_size,\n",
    "                dtype=tf.dtypes.float32,\n",
    "                name=\"Observation\"\n",
    "            ),\n",
    "            tf.TensorSpec(\n",
    "                shape=observation_size,\n",
    "                dtype=tf.dtypes.float32,\n",
    "                name=\"Next state\"\n",
    "            ),\n",
    "            tf.TensorSpec(\n",
    "                shape=[action_size],\n",
    "                dtype=tf.dtypes.float32,\n",
    "                name=\"Action\"\n",
    "            ),\n",
    "            tf.TensorSpec(\n",
    "                # Reward size\n",
    "                shape=[1, ],\n",
    "                dtype=tf.dtypes.float32,\n",
    "                name=\"Reward\"\n",
    "            ),\n",
    "            tf.TensorSpec(\n",
    "                shape=[1, ],\n",
    "                # Either 0 or 1 \n",
    "                dtype=tf.dtypes.float32,\n",
    "                name=\"Non-Terminal State\"\n",
    "            )\n",
    "        )\n",
    "\n",
    "        # Create the buffer \n",
    "        self.buffer = tf_uniform_replay_buffer.TFUniformReplayBuffer(\n",
    "            self.data_spec, batch_size, buffer_length\n",
    "        )\n",
    "\n",
    "    def obtain_buffer_specs(self):\n",
    "        return self.data_spec\n",
    "\n",
    "    def add(self, items):\n",
    "        \"\"\"\n",
    "        length of items must be equal to batch size\n",
    "\n",
    "        items: list or tuple of batched data from (50, 5)\n",
    "\n",
    "\n",
    "        \"\"\"\n",
    "        # Combine all values from \"items\" in tensor\n",
    "        # Not sure wether we need tf.nest.map_structure\n",
    "        batched_values = tf.nest.map_structure(\n",
    "            lambda t: tf.stack([t] * self.batch_size),\n",
    "            items\n",
    "        )\n",
    "        \n",
    "        # Add to batch\n",
    "        self.buffer.add_batch(batched_values)\n",
    "\n",
    "    def sample(self, batch_size, prefetch_size):\n",
    "        data = self.buffer.as_dataset(single_deterministic_pass=True)\n",
    "\n",
    "                \n",
    "        # data = data.map(lambda img, target: (tf.cast(img, tf.float32), target))\n",
    "        # # normalize inputs from 0/255 to -1/1\n",
    "        # data = data.map(lambda img, target: ((img/128.)-1, target))\n",
    "        # # create one-hot vector for targets\n",
    "        # data = data.map(lambda img, target: (img, tf.one_hot(target, depth=10)))\n",
    "\n",
    "        # normalize inputs from 0/255 to -1/1\n",
    "        data = data.map(lambda buffer_content, _: (((buffer_content[0]/128.)-1, (buffer_content[1]/128.)-1, buffer_content[2], buffer_content[3], buffer_content[4]), _))\n",
    "        data = data.cache()\n",
    "        data = data.batch(batch_size).prefetch(prefetch_size)\n",
    "        #later we want these to be sequences (Do we though)\n",
    "        return data\n"
   ]
  },
  {
   "cell_type": "markdown",
   "metadata": {
    "collapsed": false,
    "pycharm": {
     "name": "#%% md\n"
    }
   },
   "source": [
    "# Environment"
   ]
  },
  {
   "cell_type": "code",
   "execution_count": 421,
   "metadata": {
    "collapsed": false,
    "pycharm": {
     "name": "#%%\n"
    }
   },
   "outputs": [],
   "source": [
    "class EnvironmentInteractor:\n",
    "\n",
    "  def __init__(self, config, buffer, environment_name = \"highway-fast-v0\"):\n",
    "    self.config = config\n",
    "\n",
    "    self.env = gym.make(environment_name)    \n",
    "    self.env.configure(config)\n",
    "\n",
    "    self.buffer = buffer\n",
    "    # Save sizes of the stupid tensors\n",
    "    self.data_spec = self.buffer.obtain_buffer_specs()\n",
    "  \n",
    "\n",
    "\n",
    "  def create_trajectories(self, iterations):\n",
    "    state = self.env.reset()\n",
    "    \n",
    "    for _ in range(iterations):\n",
    "        action = self.env.action_space.sample()\n",
    "\n",
    "        next_state, reward, done, _ = self.env.step(action)\n",
    "        \n",
    "        self.buffer.add((\n",
    "          tf.cast(tf.constant(state, shape=self.data_spec[0].shape.as_list()), tf.float32),\n",
    "          tf.cast(tf.constant(next_state, shape=self.data_spec[1].shape.as_list()), tf.float32),\n",
    "          tf.cast(tf.constant(action, shape=self.data_spec[2].shape.as_list()), tf.float32),\n",
    "          tf.cast(tf.constant(reward, shape=self.data_spec[3].shape.as_list()), tf.float32),\n",
    "          tf.cast(tf.constant(1-done, shape=self.data_spec[4].shape.as_list()), tf.float32)\n",
    "        ))\n",
    "\n",
    "        state = next_state\n",
    "        \n",
    "        if done:\n",
    "          state = self.env.reset()\n",
    "\n",
    "\n",
    "  def __del__(self):\n",
    "    self.env.close()"
   ]
  },
  {
   "cell_type": "markdown",
   "metadata": {
    "collapsed": false,
    "pycharm": {
     "name": "#%% md\n"
    }
   },
   "source": [
    "# Parameters"
   ]
  },
  {
   "cell_type": "code",
   "execution_count": 422,
   "metadata": {
    "collapsed": false,
    "pycharm": {
     "name": "#%%\n"
    }
   },
   "outputs": [],
   "source": [
    "# Image size\n",
    "image_shape = (128,32, 1)\n",
    "\n",
    "# Long term memory of GRU\n",
    "hidden_unit_size = 200\n",
    "\n",
    "# Z in paper\n",
    "stochastic_state_shape = (32,32)\n",
    "stochastic_state_size = stochastic_state_shape[0] * stochastic_state_shape[1]\n",
    "\n",
    "#\n",
    "action_size = 1\n",
    "horizon = 15\n",
    "discount_factor = 0.995\n",
    "\n",
    "#\n",
    "mlp_hidden_layer_size = 100\n",
    "batch_size = 50\n",
    "sequence_length = 50\n",
    "\n",
    "# TODO different variable names for network inp/outp sizes\n",
    "\n",
    "\n"
   ]
  },
  {
   "cell_type": "code",
   "execution_count": 423,
   "metadata": {
    "collapsed": false,
    "pycharm": {
     "name": "#%%\n"
    }
   },
   "outputs": [],
   "source": [
    "class RSSMState(NamedTuple):\n",
    "    logits: tf.Tensor = tf.zeros(shape=(stochastic_state_size,))\n",
    "    stochastic_state_z: tf.Tensor = tf.zeros(shape=(stochastic_state_size,))\n",
    "    hidden_rnn_state: tf.Tensor = tf.zeros(shape=(hidden_unit_size,))\n",
    "\n",
    "    @classmethod\n",
    "    def from_list(cls, rssm_states):\n",
    "        logits = tf.stack([rssm_state.logits for rssm_state in rssm_states])\n",
    "        stochastic_state_z = tf.stack([rssm_state.stochastic_state_z for rssm_state in rssm_states])\n",
    "        hidden_rnn_state = tf.stack([rssm_state.hidden_rnn_state for rssm_state in rssm_states])\n",
    "\n",
    "        return cls(logits, stochastic_state_z, hidden_rnn_state)\n",
    "\n",
    "    def get_hidden_state_h_and_stochastic_state_z(self):\n",
    "        hidden_state_h_and_stochastic_state_z = tf.concat([self.stochastic_state_z, self.hidden_rnn_state], axis=-1)\n",
    "        return hidden_state_h_and_stochastic_state_z\n",
    "\n",
    "    @classmethod\n",
    "    def detach(cls, rssm_state):\n",
    "        return cls(tf.stop_gradient(rssm_state.logits), tf.stop_gradient(rssm_state.stochastic_state_z), tf.stop_gradient(rssm_state.hidden_rnn_state))\n",
    "\n",
    "    @classmethod\n",
    "    def convert_sequences_to_batches(cls, rssm_state, sequence_length):\n",
    "        logits = cls.convert_sequence_to_batch(rssm_state.logits[:sequence_length])\n",
    "        stochastic_state_z = cls.convert_sequence_to_batch(rssm_state.stochastic_state_z[:sequence_length])\n",
    "        hidden_rnn_state = cls.convert_sequence_to_batch(rssm_state.hidden_rnn_state[:sequence_length])\n",
    "\n",
    "        return cls(logits, stochastic_state_z, hidden_rnn_state)\n",
    "\n",
    "    @classmethod\n",
    "    def convert_sequence_to_batch(cls, sequence):\n",
    "        batch = tf.reshape(sequence, (sequence.shape[0] * sequence.shape[1], *sequence.shape[2:]))\n",
    "        return batch\n"
   ]
  },
  {
   "cell_type": "markdown",
   "metadata": {
    "collapsed": false,
    "pycharm": {
     "name": "#%% md\n"
    }
   },
   "source": [
    "# World model"
   ]
  },
  {
   "cell_type": "code",
   "execution_count": 424,
   "metadata": {
    "collapsed": false,
    "pycharm": {
     "name": "#%%\n"
    }
   },
   "outputs": [],
   "source": [
    "class WorldModel:\n",
    "\n",
    "\n",
    "    def __init__(self) -> None:\n",
    "        super().__init__()\n",
    "\n",
    "        self.encoder = self.create_encoder()\n",
    "        self.decoder = self.create_decoder()\n",
    "        self.reward_model = self.create_reward_predictor()\n",
    "        self.discount_model = self.create_discount_predictor()\n",
    "        self.actor = self.create_actor()\n",
    "        self.critic = self.create_critic()\n",
    "        self.target_critic = tf.keras.models.clone_model(self.critic)\n",
    "\n",
    "        self.rssm = RSSM()\n",
    "\n",
    "        self.models = (self.encoder,\n",
    "        self.decoder,\n",
    "        self.reward_model,\n",
    "        self.discount_model)\n",
    "\n",
    "\n",
    "    def create_encoder(self, input_size=image_shape, output_size=hidden_unit_size):\n",
    "        # Third dimension might be obsolete\n",
    "        encoder_input = tf.keras.Input(shape=input_size)\n",
    "        x = Conv2D(16, (3, 3), activation=\"elu\", padding=\"same\")(encoder_input) # 16 layers of filtered 192x48 features\n",
    "        x = MaxPooling2D((2, 2), padding=\"same\")(x) # 64 / 96x24\n",
    "        x = Conv2D(32, (3, 3), activation=\"elu\", padding=\"same\")(x) # 64 / 96x24\n",
    "        x = MaxPooling2D((2, 2), padding=\"same\")(x) # 64 / 96x24\n",
    "        x = Conv2D(64, (3, 3), activation=\"elu\", padding=\"same\")(x) # 64 / 48x12\n",
    "        x = MaxPooling2D((2, 2), padding=\"same\")(x) # 64 / 48x12\n",
    "        x = GlobalAveragePooling2D()(x) # 64\n",
    "        encoder_output = Dense(output_size, activation = \"elu\")(x)\n",
    "\n",
    "        encoder = tf.keras.Model(encoder_input, encoder_output, name=\"Encoder\")\n",
    "\n",
    "        return encoder\n",
    "\n",
    "\n",
    "    # Input size = 1024(z:32x32) + 200(size of hidden state)\n",
    "    # Output size = game frame\n",
    "    def create_decoder(\n",
    "        self, \n",
    "        input_size=stochastic_state_size + hidden_unit_size, \n",
    "        output_size=image_shape\n",
    "    ):\n",
    "        # Third dimension might be obsolete\n",
    "        decoder_input = tf.keras.Input(shape=input_size)\n",
    "        # TODO WIE SCHLIMM IST EIN MLP HIER?\n",
    "        x = Dense(256, activation= \"elu\")(decoder_input)\n",
    "        x = Reshape((32, 8, 1))(x) \n",
    "        # TODO Check whether correct reshape happens\n",
    "        #tf.debugging.assert_equal(x)\n",
    "        x = Conv2DTranspose(16, (3, 3), strides=2, activation=\"elu\", padding=\"same\")(x)\n",
    "        x = BatchNormalization()(x)\n",
    "        x = Conv2DTranspose(1, (3, 3), strides=2, activation=\"linear\", padding=\"same\")(x)\n",
    "       # x = Conv2DTranspose(1, (3, 3), strides=2, activation=\"elu\", padding=\"same\")(x)\n",
    "        x = Flatten()(x)\n",
    "        # Might needs shape as Tensor  #event_shape=output_size\n",
    "\n",
    "        # decoder_output = tfp.layers.IndependentNormal(event_shape=output_size)(x)\n",
    "\n",
    "\n",
    "        decoder = tf.keras.Model(\n",
    "            decoder_input,\n",
    "            x,\n",
    "            name=\"Decoder\"\n",
    "        )\n",
    "\n",
    "        return decoder\n",
    "    \n",
    "\n",
    "        # Input: concatination of h and z\n",
    "    # Output: float predicting the obtained reward\n",
    "    def create_reward_predictor(\n",
    "        self, \n",
    "        input_size=hidden_unit_size+stochastic_state_size,\n",
    "        output_size=1\n",
    "    ):\n",
    "        reward_predictor_input = tf.keras.Input(shape=input_size)\n",
    "        x = Dense(mlp_hidden_layer_size, activation=\"elu\")(reward_predictor_input)\n",
    "        x = Dense(mlp_hidden_layer_size, activation=\"elu\")(x)\n",
    "        x = Dense(mlp_hidden_layer_size, activation=\"elu\")(x)\n",
    "        x = Dense(output_size)(x)\n",
    "        # Creates indipendent normal distribution\n",
    "        # Hope is that it learns to output variables over reward space [0,1]\n",
    "        #reward_predictor_output = tfp.layers.IndependentNormal()(x)\n",
    "\n",
    "        reward_predictor = tf.keras.Model(\n",
    "            reward_predictor_input,\n",
    "            x,\n",
    "            name=\"create_reward_predictor\"\n",
    "        )\n",
    "\n",
    "        return reward_predictor\n",
    "    \n",
    "\n",
    "        # Input: concatination of h and z\n",
    "    # Output: float predicting the obtained reward\n",
    "    def create_discount_predictor(\n",
    "        self, \n",
    "        input_size=hidden_unit_size+stochastic_state_size,\n",
    "        output_size=1\n",
    "    ):\n",
    "        discount_predictor_input = tf.keras.Input(shape=input_size)\n",
    "        x = Dense(mlp_hidden_layer_size, activation=\"elu\")(discount_predictor_input)\n",
    "        x = Dense(mlp_hidden_layer_size, activation=\"elu\")(x)\n",
    "        x = Dense(mlp_hidden_layer_size, activation=\"elu\")(x)\n",
    "        x = Dense(output_size, activation=\"elu\")(x)\n",
    "        # Create 1 output sampled from bernoulli distribution\n",
    "        #discount_predictor_output = tfp.layers.IndependentBernoulli()(x)\n",
    "\n",
    "        discount_predictor = tf.keras.Model(\n",
    "            discount_predictor_input,\n",
    "            x,\n",
    "            name=\"discount_predictor\"\n",
    "        )\n",
    "\n",
    "        return discount_predictor\n",
    "\n",
    "    def create_actor(\n",
    "        self,\n",
    "        input_size=hidden_unit_size+stochastic_state_size,\n",
    "        output_size=action_size\n",
    "    ):\n",
    "        actor_input = tf.keras.Input(shape=input_size)\n",
    "        x = Dense(mlp_hidden_layer_size, activation=\"elu\")(actor_input)\n",
    "        x = Dense(mlp_hidden_layer_size, activation=\"elu\")(x)\n",
    "        x = Dense(mlp_hidden_layer_size, activation=\"elu\")(x)\n",
    "        x = Dense(output_size, activation=\"linear\")(x)\n",
    "\n",
    "        actor = tf.keras.Model(\n",
    "            actor_input,\n",
    "            x,\n",
    "            name=\"Actor\"\n",
    "        )\n",
    "\n",
    "        return actor\n",
    "\n",
    "    def create_critic(\n",
    "        self,\n",
    "        input_size=hidden_unit_size+stochastic_state_size,\n",
    "        output_size=1\n",
    "    ):\n",
    "        critic_input = tf.keras.Input(shape=input_size)\n",
    "        x = Dense(mlp_hidden_layer_size, activation=\"elu\")(critic_input)\n",
    "        x = Dense(mlp_hidden_layer_size, activation=\"elu\")(x)\n",
    "        x = Dense(mlp_hidden_layer_size, activation=\"elu\")(x)\n",
    "        x = Dense(output_size, activation=\"linear\")(x)\n",
    "\n",
    "        actor = tf.keras.Model(\n",
    "            critic_input,\n",
    "            x,\n",
    "            name=\"Critic\"\n",
    "        )\n",
    "\n",
    "        return actor\n",
    "\n",
    "    def compute_actor_critic_loss(self, posterior_rssm_state: RSSMState):\n",
    "\n",
    "        # TODO At the moment we are using only batches and not batches of sequences#\n",
    "        batched_posterior_rssm_states = RSSMState.detach(RSSMState.convert_sequences_to_batches(posterior_rssm_state, sequence_length=sequence_length-1))\n",
    "\n",
    "        dreamed_rssm_states, dreamed_log_probabilities, dreamed_policy_entropies = self.rssm.dreaming_rollout(horizon, self.actor, batched_posterior_rssm_states)\n",
    "\n",
    "        dreamed_hidden_state_h_and_stochastic_state_z = dreamed_rssm_states.get_hidden_state_h_and_stochastic_state_z()\n",
    "\n",
    "        #TODO HARDCODED SHAPE!\n",
    "        dreamed_hidden_state_h_and_stochastic_state_z = tf.reshape(dreamed_hidden_state_h_and_stochastic_state_z, (-1, hidden_unit_size+stochastic_state_size))\n",
    "\n",
    "        self.set_trainable_models(self.models + self.rssm.models + (self.critic,) + (self.target_critic,), False)\n",
    "        ########################################\n",
    "        reward_logits = world_model.reward_model(dreamed_hidden_state_h_and_stochastic_state_z)\n",
    "        reward_distribution = tfp.distributions.Independent(tfp.distributions.Normal(reward_logits, 1))\n",
    "        dreamed_reward = reward_distribution.mean()\n",
    "\n",
    "        discount_logits = world_model.discount_model(dreamed_hidden_state_h_and_stochastic_state_z)\n",
    "        discount_distribution = tfp.distributions.Independent(tfp.distributions.Bernoulli(logits=discount_logits))\n",
    "        dreamed_discount = discount_factor * tf.round(discount_distribution.prob(discount_distribution.mean()))\n",
    "\n",
    "        target_value_logits = self.target_critic(dreamed_hidden_state_h_and_stochastic_state_z)\n",
    "        target_value_distribution = tfp.distributions.Independent(tfp.distributions.Normal(target_value_logits, 1))\n",
    "        dreamed_value = target_value_distribution.mean()\n",
    "        ########################################\n",
    "        self.set_trainable_models(self.models + self.rssm.models + (self.critic,) + (self.target_critic,), True)\n",
    "\n",
    "\n",
    "        actor_loss, discount, lambda_returns = self.actor_loss(dreamed_reward, dreamed_value, dreamed_discount, dreamed_log_probabilities, dreamed_policy_entropies)\n",
    "        critic_loss = self.critic_loss(dreamed_hidden_state_h_and_stochastic_state_z, discount, lambda_returns)\n",
    "\n",
    "        return actor_loss, critic_loss\n",
    "\n",
    "\n",
    "    def actor_loss(self, dreamed_reward, dreamed_value, dreamed_discount, dreamed_log_probabilities, dreamed_policy_entropies, actor_entropy_scale=0.001, lmbda = 0.95):\n",
    "        dreamed_reward = tf.reshape(dreamed_reward, (horizon, batch_size-1, -1))\n",
    "        dreamed_value = tf.reshape(dreamed_value, (horizon, batch_size-1, -1))\n",
    "        dreamed_discount = tf.reshape(dreamed_discount, (horizon, batch_size-1, -1))\n",
    "\n",
    "        lambda_returns = self.compute_return(dreamed_reward[:-1], dreamed_value[:-1], dreamed_discount[:-1], bootstrap=dreamed_value[-1], lmbda=lmbda)\n",
    "        advantage = tf.squeeze(tf.stop_gradient(lambda_returns - dreamed_value[:-1]), axis=-1)\n",
    "        objective = dreamed_log_probabilities[1:] * advantage\n",
    "\n",
    "        discounts = tf.concat([tf.ones_like(dreamed_discount[:1]), dreamed_discount[1:]])\n",
    "        discount = tf.math.cumprod(discounts[:-1], 0)\n",
    "        policy_entropy = dreamed_policy_entropies[1:]\n",
    "        actor_loss = -tf.math.reduce_sum(tf.math.reduce_mean(discount * (objective + actor_entropy_scale * policy_entropy), dim=1))\n",
    "        return actor_loss, discount, lambda_returns\n",
    "\n",
    "\n",
    "    def critic_loss(self, dreamed_hidden_state_h_and_stochastic_state_z, discount, lambda_returns):\n",
    "        # TODO dreamed_hidden_state_h_and_stochastic_state_z[:-1]\n",
    "        critic_logits = self.critic(tf.stop_gradient(dreamed_hidden_state_h_and_stochastic_state_z[:-1]))\n",
    "        critic_distribution = tfp.distributions.Independent(tfp.distributions.Normal(critic_logits, 1))\n",
    "        critic_loss = -tf.reduce_mean(tf.stop_gradient(discount) * critic_distribution.log_prob(tf.stop_gradient(lambda_returns)))\n",
    "\n",
    "        return critic_loss\n",
    "\n",
    "    def compute_return(self, reward,\n",
    "                    value,\n",
    "                    discount,\n",
    "                    bootstrap,\n",
    "                    lmbda):\n",
    "\n",
    "        next_values = tf.concat([value[1:], bootstrap[None]], 0)\n",
    "        target = reward + discount + next_values * (1 - lmbda)\n",
    "        timesteps = list(range(reward.shape[0] - 1, -1, -1))\n",
    "        outputs = []\n",
    "        accumulated_reward = bootstrap\n",
    "        for timestep in timesteps:\n",
    "            inp = target[timestep]\n",
    "            discount_factor = discount[timestep]\n",
    "            accumulated_reward = inp + discount_factor * lmbda * accumulated_reward\n",
    "            outputs.append(accumulated_reward)\n",
    "        returns = tf.reverse(tf.stack(outputs), [0])\n",
    "        return returns\n",
    "\n",
    "\n",
    "\n",
    "    def set_trainable_models(self, models, trainable: bool):\n",
    "        for model in models:\n",
    "            model.trainable = trainable\n",
    "\n",
    "    def compute_log_loss(self, distribution, target):\n",
    "        \"\"\"\n",
    "        Computes loss for:\n",
    "        - Image log loss(Output decoder, frame timestep t)\n",
    "        - Reward log loss(Output reward network, obtained reward timestep t)\n",
    "        - Discount log loss(Output of discount network, terminal state timestep t)\n",
    "        \"\"\"\n",
    "        # TODO check whether distribution.log_prob  (target) matches target size\n",
    "        # histogram von wahrsch. distribution /\n",
    "        return -tf.math.reduce_mean(distribution.log_prob(target))\n",
    "\n",
    "\n",
    "    def compute_kl_loss(self, prior_rssm_states, posterior_rssm_states, alpha=0.8):\n",
    "        \"\"\"\n",
    "        alpha: weigh between training the prior toward the representations & regularizing\n",
    "         the representations towards the prior\n",
    "        prior: Z\n",
    "        posterior: Z^\n",
    "        \"\"\"\n",
    "        prior_distribution = tfp.distributions.Independent(tfp.distributions.OneHotCategorical(logits=prior_rssm_states.logits), 1)\n",
    "        posterior_distribution = tfp.distributions.Independent(tfp.distributions.OneHotCategorical(logits=posterior_rssm_states.logits), 1)\n",
    "\n",
    "        prior_distribution_detached = tfp.distributions.Independent(tfp.distributions.OneHotCategorical(logits=tf.stop_gradient(prior_rssm_states.logits)), 1)\n",
    "        posterior_distribution_detached = tfp.distributions.Independent(tfp.distributions.OneHotCategorical(logits=tf.stop_gradient(posterior_rssm_states.logits)), 1)\n",
    "\n",
    "        # Loss with KL Balancing\n",
    "        # TODO check reihenfolge, reduce_mean hat Gradients?!!?\n",
    "        return alpha * tf.math.reduce_mean(tfp.distributions.kl_divergence(posterior_distribution_detached, prior_distribution)) + (1-alpha) * tf.math.reduce_mean(tfp.distributions.kl_divergence(posterior_distribution, prior_distribution_detached))\n",
    "\n",
    "\n"
   ]
  },
  {
   "cell_type": "code",
   "execution_count": 425,
   "metadata": {
    "collapsed": false,
    "pycharm": {
     "name": "#%%\n"
    }
   },
   "outputs": [],
   "source": [
    "\n",
    "\n",
    "class RSSM:\n",
    "\n",
    "    def __init__(self) -> None:\n",
    "        super().__init__()\n",
    "\n",
    "        self.state_action_embedder = self.create_stochastic_state_action_embedder()\n",
    "        self.rnn = self.create_rnn()\n",
    "        self.prior_model = self.create_prior_stochastic_state_embedder()\n",
    "        self.posterior_model = self.create_posterior_stochastic_state_embedder()\n",
    "\n",
    "        self.models = (self.state_action_embedder,\n",
    "        self.rnn,\n",
    "        self.prior_model,\n",
    "        self.posterior_model)\n",
    "\n",
    "\n",
    "    def create_stochastic_state_action_embedder(\n",
    "        self,\n",
    "        input_size=(stochastic_state_size + action_size,),\n",
    "        output_size=hidden_unit_size\n",
    "    ):\n",
    "        state_action_input = tf.keras.Input(shape=input_size)\n",
    "        state_action_output = Dense(output_size, activation = \"elu\")(state_action_input)\n",
    "\n",
    "        stochastic_state_action_embedder = tf.keras.Model(\n",
    "            state_action_input,\n",
    "            state_action_output,\n",
    "            name=\"stochastic_state_action_embedder\"\n",
    "        )\n",
    "\n",
    "        return stochastic_state_action_embedder\n",
    "\n",
    "    # Contains GRU cell\n",
    "    def create_rnn(\n",
    "        self,\n",
    "        input_size=(hidden_unit_size, ),\n",
    "        output_size=hidden_unit_size\n",
    "    ):\n",
    "        return RNN(GRUCell(output_size))\n",
    "\n",
    "        rnn_input = tf.keras.Input(shape=input_size)\n",
    "       # rnn_hidden_state_placeholder = tf.keras.Input(shape=(hidden_unit_size,))\n",
    "        rnn_output = rnn = tf.keras.layers.RNN(tf.keras.layers.GRUCell(output_size))(rnn_input)\n",
    "\n",
    "\n",
    "        rnn = tf.keras.Model(\n",
    "            rnn_input,\n",
    "            rnn_output,\n",
    "            name=\"rnn\"\n",
    "        )\n",
    "\n",
    "        return rnn\n",
    "\n",
    "    # Z^ in paper\n",
    "    def create_prior_stochastic_state_embedder(\n",
    "        self,\n",
    "        input_size=hidden_unit_size,\n",
    "        output_size=stochastic_state_size\n",
    "    ):\n",
    "        state_embedder_input = tf.keras.Input(shape=input_size)\n",
    "        x = Dense(mlp_hidden_layer_size, activation=\"elu\")(state_embedder_input)\n",
    "        # Activation function removed\n",
    "        state_embedder_output = Dense(output_size)(x)\n",
    "\n",
    "        create_prior_stochastic_state_embedder = tf.keras.Model(\n",
    "            state_embedder_input,\n",
    "            state_embedder_output,\n",
    "            name=\"create_prior_stochastic_state_embedder\"\n",
    "        )\n",
    "\n",
    "        return create_prior_stochastic_state_embedder\n",
    "\n",
    "    # Z in paper\n",
    "    # Input size = concatenated output of RNN with output of CNN\n",
    "    def create_posterior_stochastic_state_embedder(\n",
    "        self,\n",
    "        input_size=hidden_unit_size+hidden_unit_size,\n",
    "        output_size=stochastic_state_size\n",
    "    ):\n",
    "        state_embedder_input = tf.keras.Input(shape=input_size)\n",
    "        x = Dense(mlp_hidden_layer_size, activation=\"elu\")(state_embedder_input)\n",
    "        # Activation function removed\n",
    "        state_embedder_output = Dense(output_size)(x)\n",
    "\n",
    "        create_posterior_stochastic_state_embedder = tf.keras.Model(\n",
    "            state_embedder_input,\n",
    "            state_embedder_output,\n",
    "            name=\"create_posterior_stochastic_state_embedder\"\n",
    "        )\n",
    "\n",
    "        return create_posterior_stochastic_state_embedder\n",
    "\n",
    "    def sample_stochastic_state(self, logits):\n",
    "        \"\"\"\n",
    "        Gets probabilities for each element of class in each category.\n",
    "        Used to generate embeddings from logits.\n",
    "        \"\"\"\n",
    "\n",
    "        # Logit Outputs from MLP\n",
    "        logits = tf.reshape(logits, shape=(-1, *stochastic_state_shape))\n",
    "        # OneHot distribution over logits\n",
    "        logits_distribution = tfp.distributions.OneHotCategorical(logits)\n",
    "        # Sample from OneHot distribution\n",
    "        sample = tf.cast(logits_distribution.sample(), tf.float32)\n",
    "        # TODO observe logits_distribution.prob(sample) after few iterations\n",
    "        # TODO Remove tf.expand_dims - shouldn't be necessary\n",
    "        sample = sample + tf.expand_dims(logits_distribution.prob(sample) - tf.stop_gradient(logits_distribution.prob(sample)), -1)\n",
    "\n",
    "        return tf.reshape(sample, (-1, *stochastic_state_shape))\n",
    "\n",
    "    def dream(self, previous_rssm_state: RSSMState, previous_action: tf.Tensor, non_terminal=True):\n",
    "        \"\"\"\n",
    "        Creates Z^\n",
    "        \"\"\"\n",
    "        # TODO ÄNDERN\n",
    "        stochastic_state_z = tf.reshape(previous_rssm_state.stochastic_state_z, (-1,stochastic_state_size))\n",
    "        # Embedding of concatenation prior z and action (t-1)\n",
    "        state_action_embedding = self.state_action_embedder(tf.concat([stochastic_state_z * non_terminal, previous_action], axis=-1))\n",
    "        \n",
    "        # TODO Remove Squeeze\n",
    "        # Create h from GRU with old h (t-1) and the embedding\n",
    "        state_action_embedding = tf.reshape(state_action_embedding, shape=(-1, 200, 1))\n",
    "        # TODO ÄNDERN\n",
    "        # previous_rssm_state.hidden_rnn_state = tf.reshape(previous_rssm_state.hidden_rnn_state, shape=(-1, 200))\n",
    "\n",
    "        hidden_rnn_state = self.rnn(state_action_embedding, previous_rssm_state.hidden_rnn_state * non_terminal)\n",
    "\n",
    "        # Logits created from h (with MLP) to create Z^\n",
    "        prior_logits = self.prior_model(hidden_rnn_state)\n",
    "        # Create Z^\n",
    "        prior_stochastic_state_z = self.sample_stochastic_state(prior_logits)\n",
    "        # Save logits for Z^, Z^ and h\n",
    "        prior_rssm_state = RSSMState(prior_logits, tf.reshape(prior_stochastic_state_z, (-1, stochastic_state_size)), hidden_rnn_state)\n",
    "\n",
    "        return prior_rssm_state\n",
    "\n",
    "    def dreaming_rollout(self, horizon: int, actor: tf.keras.Model, previous_rssm_state: RSSMState):\n",
    "        \"\"\"\n",
    "        Rollout only Z\n",
    "        \"\"\"\n",
    "        rssm_state = previous_rssm_state\n",
    "\n",
    "        next_rssm_states = []\n",
    "        action_entropies = []\n",
    "        image_log_probabilities = []\n",
    "        for timestep in range(horizon):\n",
    "            action_logits = actor(tf.stop_gradient(rssm_state.get_hidden_state_h_and_stochastic_state_z()))\n",
    "            action_distribution = tfp.distributions.Independent(tfp.distributions.Normal(action_logits, 1))\n",
    "            action = action_distribution.sample()\n",
    "            rssm_state = self.dream(rssm_state, action)\n",
    "            next_rssm_states.append(rssm_state)\n",
    "            # TODO is this correct? only entropy of action?\n",
    "            action_entropies.append(action_distribution.entropy())\n",
    "            image_log_probabilities.append(action_distribution.log_prob(tf.round(tf.stop_gradient(action))))\n",
    "\n",
    "        next_rssm_states = RSSMState.from_list(next_rssm_states)\n",
    "        image_log_probabilities = tf.stack(image_log_probabilities, 0)\n",
    "        action_entropies = tf.stack(action_entropies, 0)\n",
    "\n",
    "        return next_rssm_states, image_log_probabilities, action_entropies\n",
    "\n",
    "\n",
    "    def observe(self, encoded_state: tf.Tensor, previous_action: tf.Tensor, previous_non_terminal: tf.Tensor, previous_rssm_state: RSSMState):\n",
    "        \"\"\"\n",
    "        Creates Z' and Z\n",
    "        \"\"\"\n",
    "        # Obtain Z^\n",
    "        prior_rssm_state = self.dream(previous_rssm_state, previous_action, previous_non_terminal)\n",
    "\n",
    "        # concatenates h and the output of our CNN (encoded input frame X)\n",
    "        encoded_state_and_hidden_state = tf.concat([prior_rssm_state.hidden_rnn_state, encoded_state], axis=-1)\n",
    "\n",
    "        # Logits created from concat of h and encoded frame X (with MLP) to create Z\n",
    "        posterior_logits = self.posterior_model(encoded_state_and_hidden_state)\n",
    "        # Create Z\n",
    "        posterior_stochastic_state_z = self.sample_stochastic_state(posterior_logits)\n",
    "        # Saves logits for Z, Z, and h\n",
    "        posterior_rssm_state = RSSMState(posterior_logits, tf.reshape(posterior_stochastic_state_z, (-1, stochastic_state_size)), prior_rssm_state.hidden_rnn_state)\n",
    "\n",
    "        return prior_rssm_state, posterior_rssm_state\n",
    "\n",
    "    def observing_rollout(self, encoded_states: tf.Tensor, actions: tf.Tensor, non_terminals: tf.Tensor, previous_rssm_state: RSSMState):\n",
    "        prior_rssm_states = []\n",
    "        posterior_rssm_states = []\n",
    "\n",
    "        for encoded_state, action, non_terminal in zip(encoded_states, actions, non_terminals):\n",
    "            # TODO remove islandsolution\n",
    "            encoded_state = tf.expand_dims(encoded_state, axis=0)\n",
    "            action = tf.expand_dims(action, axis=0)\n",
    "            non_terminal = tf.expand_dims(non_terminal, axis=0)\n",
    "            #?? 0 if terminal state is reached\n",
    "            previous_action = action * non_terminal\n",
    "            # Z^, Z\n",
    "            prior_rssm_state, posterior_rssm_state = self.observe(encoded_state, previous_action, non_terminal, previous_rssm_state)\n",
    "\n",
    "            # Save Z^, Z\n",
    "            prior_rssm_states.append(prior_rssm_state)\n",
    "            posterior_rssm_states.append(posterior_rssm_state)\n",
    "\n",
    "            # Z for next iteration\n",
    "            previous_rssm_state = posterior_rssm_state\n",
    "        prior_rssm_states = RSSMState.from_list(prior_rssm_states)\n",
    "        posterior_rssm_states = RSSMState.from_list(posterior_rssm_states)\n",
    "\n",
    "        return prior_rssm_states, posterior_rssm_states\n"
   ]
  },
  {
   "cell_type": "markdown",
   "metadata": {
    "collapsed": false,
    "pycharm": {
     "name": "#%% md\n"
    }
   },
   "source": [
    "# Test Everything"
   ]
  },
  {
   "cell_type": "code",
   "execution_count": 426,
   "metadata": {
    "collapsed": false,
    "pycharm": {
     "name": "#%%\n"
    }
   },
   "outputs": [
    {
     "name": "stderr",
     "output_type": "stream",
     "text": [
      "/Library/Frameworks/Python.framework/Versions/3.10/lib/python3.10/site-packages/highway_env/envs/common/observation.py:215: FutureWarning: The frame.append method is deprecated and will be removed from pandas in a future version. Use pandas.concat instead.\n",
      "  df = df.append(pd.DataFrame.from_records(\n"
     ]
    }
   ],
   "source": [
    "# TODO move hyperparams\n",
    "epochs = 32\n",
    "\n",
    "optimizer = tf.keras.optimizers.Adam(0.0002)\n",
    "\n",
    "optimizer_actor = tf.keras.optimizers.Adam(4e-5)\n",
    "optimizer_critic = tf.keras.optimizers.Adam(1e-4)\n",
    "\n",
    "buffer = Buffer(batch_size=1)\n",
    "config = {\n",
    "        \"observation\": {\n",
    "            \"type\": \"GrayscaleObservation\",\n",
    "            \"observation_shape\": (128, 32),\n",
    "            \"stack_size\": 1,\n",
    "            # weights for RGB conversion\n",
    "            \"weights\": [0.01, 0.01, 0.98],  \n",
    "            \"scaling\": 1.5,\n",
    "        },\n",
    "        # was at 2\n",
    "        \"policy_frequency\": 1 \n",
    "    }\n",
    "\n",
    "environment_interactor = EnvironmentInteractor(config, buffer)\n",
    "\n",
    "world_model = WorldModel()\n",
    "rssm = RSSM()\n",
    "\n",
    "models = (\n",
    "        world_model.encoder,\n",
    "        world_model.decoder,\n",
    "        world_model.reward_model,\n",
    "        world_model.discount_model,\n",
    "        rssm.state_action_embedder,\n",
    "        rssm.rnn,\n",
    "        rssm.prior_model,\n",
    "        rssm.posterior_model)\n",
    "wandb.tensorflow.log(tf.summary)\n",
    "\n",
    "for episode in range(epochs):\n",
    "    environment_interactor.create_trajectories(50)\n",
    "    data = buffer.sample(batch_size=50, prefetch_size=70)\n",
    "    # Sample from buffer\n",
    "    for sequence in data:\n",
    "        state, next_state, action, reward, non_terminal = sequence[0]\n",
    "\n",
    "            # use tf.gradientTape to compute loss, then gradients and apply these to the model to modify the parameters\n",
    "        combined_trainable_variables = models[0].trainable_variables\n",
    "        for i in range(len(models)):\n",
    "            if i+1 >= len(models):\n",
    "                break\n",
    "            combined_trainable_variables += models[i+1].trainable_variables\n",
    "\n",
    "        with tf.GradientTape() as tape:\n",
    "            encoded_state = world_model.encoder(state)\n",
    "            initial_rssm_state = RSSMState()\n",
    "            prior_rssm_states, posterior_rssm_states = rssm.observing_rollout(encoded_state, action, non_terminal, initial_rssm_state)\n",
    "            hidden_state_h_and_stochastic_state_z = tf.concat([posterior_rssm_states.stochastic_state_z, posterior_rssm_states.hidden_rnn_state], axis=-1)\n",
    "\n",
    "            # TODO ÄNDERN\n",
    "            hidden_state_h_and_stochastic_state_z = tf.reshape(hidden_state_h_and_stochastic_state_z, (-1,stochastic_state_size + hidden_unit_size))\n",
    "\n",
    "            decoder_logits = world_model.decoder(hidden_state_h_and_stochastic_state_z)\n",
    "\n",
    "            # TODO ÄNDERN\n",
    "            decoder_logits = tf.reshape(decoder_logits, (-1, image_shape[0], image_shape[1], image_shape[2]))\n",
    "\n",
    "            decoder_distribution = tfp.distributions.Independent(tfp.distributions.Normal(decoder_logits, 1))\n",
    "            reward_logits = world_model.reward_model(hidden_state_h_and_stochastic_state_z)\n",
    "            reward_distribution = tfp.distributions.Independent(tfp.distributions.Normal(reward_logits, 1))\n",
    "            discount_logits = world_model.discount_model(hidden_state_h_and_stochastic_state_z)\n",
    "            discount_distribution = tfp.distributions.Independent(tfp.distributions.Bernoulli(logits=discount_logits))\n",
    "\n",
    "            image_log_loss = world_model.compute_log_loss(decoder_distribution, state)\n",
    "            reward_log_loss = world_model.compute_log_loss(reward_distribution, reward)\n",
    "            discount_log_loss = world_model.compute_log_loss(discount_distribution, non_terminal)\n",
    "            kl_loss = world_model.compute_kl_loss(prior_rssm_states, posterior_rssm_states)\n",
    "\n",
    "\n",
    "\n",
    "            loss = image_log_loss + reward_log_loss + discount_log_loss + kl_loss\n",
    "            \n",
    "            print(f\"Image Log Loss: {image_log_loss} Reward Log Loss: {reward_log_loss} Discount Log Loss {discount_log_loss} KL Loss {kl_loss}\")\n",
    "            wandb.log({\"Image Log Loss\": image_log_loss, \"Reward Log Loss\": reward_log_loss, \"Discount Log Loss\": discount_log_loss, \"KL Loss\": kl_loss, \"Loss\": loss})\n",
    "           \n",
    "            # TODO maybe in Gradienttape??\n",
    "            gradients = tape.gradient(loss, combined_trainable_variables)\n",
    "\n",
    "        optimizer.apply_gradients(zip(gradients, combined_trainable_variables))\n",
    "\n",
    "        with tf.GradientTape() as tape:\n",
    "            world_model.compute_actor_critic_loss(posterior_rssm_states)\n",
    "\n",
    "            gradients = tape.gradient(loss, world_model.actor + world_model.critic)\n",
    "\n",
    "        optimizer_actor.apply_gradients(zip(gradients, world_model.actor))\n",
    "        optimizer_critic.apply_gradients(zip(gradients, world_model.critic))\n"
   ]
  },
  {
   "cell_type": "markdown",
   "metadata": {
    "collapsed": false,
    "pycharm": {
     "name": "#%% md\n"
    }
   },
   "source": [
    "# Training Loop"
   ]
  },
  {
   "cell_type": "markdown",
   "metadata": {
    "collapsed": false,
    "pycharm": {
     "name": "#%% md\n"
    }
   },
   "source": [
    "# Training Loop"
   ]
  },
  {
   "cell_type": "code",
   "execution_count": null,
   "metadata": {
    "collapsed": false,
    "pycharm": {
     "name": "#%%\n"
    }
   },
   "outputs": [],
   "source": [
    "iterator = iter(dataset)\n",
    "print(\"Iterator trajectories:\")\n",
    "trajectories = []\n",
    "for _ in range(3):\n",
    "  t, _ = next(iterator)\n",
    "  trajectories.append(t)\n",
    "\n",
    "\n",
    "    train_step((\n",
    "        world_model.encoder,\n",
    "        world_model.decoder,\n",
    "        world_model.reward_model,\n",
    "        world_model.discount_model,\n",
    "        rssm.state_action_embedder,\n",
    "        rssm.rnn,\n",
    "        rssm.prior_model,\n",
    "        rssm.posterior_model)\n",
    "    )\n",
    "\n",
    "#print(tf.nest.map_structure(lambda t: t.shape, trajectories))"
   ]
  },
  {
   "cell_type": "markdown",
   "metadata": {
    "collapsed": false,
    "pycharm": {
     "name": "#%% md\n"
    }
   },
   "source": [
    "# World ModelTraining Loop"
   ]
  },
  {
   "cell_type": "code",
   "execution_count": null,
   "metadata": {
    "collapsed": false,
    "pycharm": {
     "name": "#%%\n"
    }
   },
   "outputs": [],
   "source": [
    "g = tf.keras.layers.GRUCell(32)\n",
    "r = tf.random.uniform((64,32), 0,3)\n",
    "g(r,r)"
   ]
  },
  {
   "cell_type": "code",
   "execution_count": null,
   "metadata": {
    "pycharm": {
     "name": "#%%\n"
    }
   },
   "outputs": [],
   "source": []
  },
  {
   "cell_type": "markdown",
   "metadata": {
    "pycharm": {
     "name": "#%% md\n"
    }
   },
   "source": [
    "# Actor Critic"
   ]
  },
  {
   "cell_type": "code",
   "execution_count": null,
   "metadata": {
    "pycharm": {
     "name": "#%%\n"
    }
   },
   "outputs": [],
   "source": []
  },
  {
   "cell_type": "markdown",
   "metadata": {
    "pycharm": {
     "name": "#%% md\n"
    }
   },
   "source": [
    "# World model & agent training loops"
   ]
  },
  {
   "cell_type": "markdown",
   "metadata": {
    "pycharm": {
     "name": "#%% md\n"
    }
   },
   "source": [
    "# Hyperparam inits\n",
    "Agent Data collection in environment + adding data to ERB (+ measure at which reward loop stops?) \n",
    "World model loop on data sampled from ERB\n",
    "Agent training loop with world model feedback\n",
    " "
   ]
  },
  {
   "cell_type": "markdown",
   "metadata": {
    "pycharm": {
     "name": "#%% md\n"
    }
   },
   "source": [
    "# Function execution"
   ]
  },
  {
   "cell_type": "code",
   "execution_count": null,
   "metadata": {
    "pycharm": {
     "name": "#%%\n"
    }
   },
   "outputs": [],
   "source": [
    "# Instantiate environment and network objects\n",
    "# Loop:\n",
    "# Pass respective inputs to networks\n",
    "# Collect outputs\n",
    "# Compute individuall losses\n",
    "# Add together to 1 big loss\n",
    "# Propagate with gradient Tape through network\n",
    "\n",
    "\n",
    "# compute the loss of an input for the model and optimize/tweak according the parameters\n",
    "def train_step(model, input, target, loss_function, optimizer):\n",
    "    # use tf.gradientTape to compute loss, then gradients and apply these to the model to modify the parameters\n",
    "    with tf.GradientTape() as tape:\n",
    "        prediction = model(input)\n",
    "        loss = loss_function(target, prediction)\n",
    "        gradients = tape.gradient(loss, model.trainable_variables)\n",
    "    optimizer.apply_gradients(zip(gradients, model.trainable_variables))\n",
    "    return loss\n",
    "\n",
    "\n",
    "# TODO move hyperparams to the rest\n",
    "epochs = 32\n",
    "\n",
    "# define loss-function and optimizer\n",
    "cross_entropy_loss = tf.keras.losses.BinaryCrossentropy()\n",
    "optimizer = tf.keras.optimizers.Adam()\n",
    "\n",
    "for epoch in range(epochs): \n",
    "\n",
    "\n",
    "    for world_model_input in tqdm(data):\n",
    "        train_loss = train_step()\n"
   ]
  },
  {
   "cell_type": "code",
   "execution_count": null,
   "metadata": {
    "pycharm": {
     "name": "#%%\n"
    }
   },
   "outputs": [],
   "source": []
  },
  {
   "cell_type": "code",
   "execution_count": null,
   "metadata": {
    "pycharm": {
     "name": "#%%\n"
    }
   },
   "outputs": [],
   "source": []
  }
 ],
 "metadata": {
  "kernelspec": {
   "display_name": "Python 3.10.2 ('venv2': venv)",
   "language": "python",
   "name": "python3"
  },
  "language_info": {
   "codemirror_mode": {
    "name": "ipython",
    "version": 3
   },
   "file_extension": ".py",
   "mimetype": "text/x-python",
   "name": "python",
   "nbconvert_exporter": "python",
   "pygments_lexer": "ipython3",
   "version": "3.10.2"
  },
  "orig_nbformat": 4,
  "vscode": {
   "interpreter": {
    "hash": "a0487b339874bb139c9db03da99ed477e0b6feb8f9d8ba304ff5b5492c4ae8bb"
   }
  }
 },
 "nbformat": 4,
 "nbformat_minor": 2
}
